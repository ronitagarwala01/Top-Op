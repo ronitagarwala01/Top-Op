{
 "cells": [
  {
   "cell_type": "code",
   "execution_count": 2,
   "metadata": {},
   "outputs": [],
   "source": [
    "import numpy as np\n",
    "import tensorflow as tf\n",
    "import matplotlib.pyplot as plt\n",
    "from matplotlib import colors"
   ]
  },
  {
   "cell_type": "code",
   "execution_count": 204,
   "metadata": {},
   "outputs": [
    {
     "name": "stdout",
     "output_type": "stream",
     "text": [
      "tf.Tensor(\n",
      "[[ 0.78984289]\n",
      " [-1.06833359]], shape=(2, 1), dtype=float64)\n",
      "\n",
      "tf.Tensor([2.09966074 1.48118916], shape=(2,), dtype=float64)\n",
      "\n",
      "tf.Tensor(\n",
      "[[1.7156228]\n",
      " [6.5000663]], shape=(2, 1), dtype=float32)\n",
      "\n",
      "tf.Tensor(\n",
      "[[2.6196358]\n",
      " [5.0990453]], shape=(2, 1), dtype=float32)\n"
     ]
    }
   ],
   "source": [
    "def absLoss(true:tf.Tensor,pred:tf.Tensor):\n",
    "    #print(true)\n",
    "    #print(pred)\n",
    "    #set up a loss function beased on absolute value, gradient is sign of pred-true\n",
    "    trueProto = tf.make_tensor_proto(true)\n",
    "    predProto = tf.make_tensor_proto(pred)\n",
    "    trueValues = tf.make_ndarray(trueProto)\n",
    "    predictedValues =  tf.make_ndarray(predProto)\n",
    "    #print(predictedValues)\n",
    "    #print(trueValues)\n",
    "\n",
    "    predictedValues = np.reshape(predictedValues,trueValues.shape)\n",
    "    #trueValues = np.reshape(trueValues,predictedValues.shape)\n",
    "\n",
    "    loss = predictedValues-trueValues\n",
    "    #print(loss)\n",
    "    #print()\n",
    "    \n",
    "    #gradient = np.zeros(loss.shape)\n",
    "    gradient = 2*loss\n",
    "    loss = loss**2\n",
    "\n",
    "    loss_tensor = tf.convert_to_tensor(loss,dtype='float32')\n",
    "    gradient_tensor = tf.convert_to_tensor(gradient,dtype='float32')\n",
    "\n",
    "    return loss_tensor,gradient_tensor\n",
    "\n",
    "size = 2\n",
    "v1 = tf.convert_to_tensor(np.random.normal(0,1,size=(size,1)))\n",
    "v2 = tf.convert_to_tensor(np.random.normal(0,1,size=(size)))\n",
    "\n",
    "print(v1)\n",
    "print()\n",
    "print(v2)\n",
    "print()\n",
    "l,g = absLoss(v1,v2)\n",
    "print(l)\n",
    "print()\n",
    "print(g)"
   ]
  },
  {
   "cell_type": "code",
   "execution_count": 241,
   "metadata": {},
   "outputs": [],
   "source": [
    "#define model\n",
    "def BuildModel(degree):\n",
    "    Input_x = tf.keras.layers.Input(shape=(degree),name=\"x\")\n",
    "\n",
    "    denseLayer = tf.keras.layers.Dense(degree)(Input_x)\n",
    "    denseLayer = tf.keras.layers.Dense(degree)(denseLayer)\n",
    "    denseLayer = tf.keras.layers.Dense(degree)(denseLayer)\n",
    "    denseLayer = tf.keras.layers.Dense(degree)(denseLayer)\n",
    "    outputLayer = tf.keras.layers.Dense(1)(denseLayer)\n",
    "    \n",
    "    return tf.keras.Model(inputs= Input_x,outputs=outputLayer)\n",
    "\n",
    "class Model_m9(tf.keras.Model):\n",
    "    def __init__(self,degree):\n",
    "        super(Model_m9, self).__init__()\n",
    "        self.model = BuildModel(degree)\n",
    "\n",
    "    def call(self,data,training = False):\n",
    "        return self.model(data)"
   ]
  },
  {
   "cell_type": "code",
   "execution_count": 5,
   "metadata": {},
   "outputs": [],
   "source": [
    "#function for trainin on\n",
    "# f(x) = sin(x) * e**x\n",
    "\n",
    "def f(x,noise:float=0):\n",
    "    return np.add(np.add(np.sin(1.5*np.pi*x-0.5), np.exp(x)), np.random.normal(0,noise,size=x.shape))"
   ]
  },
  {
   "cell_type": "code",
   "execution_count": 235,
   "metadata": {},
   "outputs": [
    {
     "data": {
      "text/plain": [
       "[<matplotlib.lines.Line2D at 0x1fba3224388>]"
      ]
     },
     "execution_count": 235,
     "metadata": {},
     "output_type": "execute_result"
    },
    {
     "data": {
      "image/png": "[encoded data removed]",
      "text/plain": [
       "<Figure size 432x288 with 1 Axes>"
      ]
     },
     "metadata": {
      "needs_background": "light"
     },
     "output_type": "display_data"
    }
   ],
   "source": [
    "minVal = -200\n",
    "maxVal = 200\n",
    "\n",
    "\n",
    "x = np.linspace(minVal,maxVal,num=1000)\n",
    "y1 = f(x,.1)\n",
    "y2 = f(x)\n",
    "\n",
    "plt.plot(x,y1)\n",
    "plt.plot(x,y2)"
   ]
  },
  {
   "cell_type": "code",
   "execution_count": 247,
   "metadata": {},
   "outputs": [
    {
     "name": "stdout",
     "output_type": "stream",
     "text": [
      "(10000,)\n"
     ]
    }
   ],
   "source": [
    "PolyDegree = 0\n",
    "numPoints = 10000\n",
    "x_forModel = np.random.uniform(minVal,maxVal,size=numPoints)#np.polynomial.polynomial.polyvander(np.random.uniform(minVal,maxVal,size=numPoints),PolyDegree)\n",
    "y_forModel = x_forModel.copy()#f(x_forModel[:,1],noise=.1)\n",
    "print(x_forModel.shape)"
   ]
  },
  {
   "cell_type": "code",
   "execution_count": 244,
   "metadata": {},
   "outputs": [
    {
     "name": "stdout",
     "output_type": "stream",
     "text": [
      "Model: \"model_14\"\n",
      "_________________________________________________________________\n",
      " Layer (type)                Output Shape              Param #   \n",
      "=================================================================\n",
      " x (InputLayer)              [(None, 1)]               0         \n",
      "                                                                 \n",
      " dense_28 (Dense)            (None, 1)                 2         \n",
      "                                                                 \n",
      " dense_29 (Dense)            (None, 1)                 2         \n",
      "                                                                 \n",
      " dense_30 (Dense)            (None, 1)                 2         \n",
      "                                                                 \n",
      " dense_31 (Dense)            (None, 1)                 2         \n",
      "                                                                 \n",
      " dense_32 (Dense)            (None, 1)                 2         \n",
      "                                                                 \n",
      "=================================================================\n",
      "Total params: 10\n",
      "Trainable params: 10\n",
      "Non-trainable params: 0\n",
      "_________________________________________________________________\n",
      "None\n",
      "\n",
      "[<tf.Variable 'dense_28/kernel:0' shape=(1, 1) dtype=float32, numpy=array([[0.264807]], dtype=float32)>, <tf.Variable 'dense_28/bias:0' shape=(1,) dtype=float32, numpy=array([0.], dtype=float32)>, <tf.Variable 'dense_29/kernel:0' shape=(1, 1) dtype=float32, numpy=array([[1.4583043]], dtype=float32)>, <tf.Variable 'dense_29/bias:0' shape=(1,) dtype=float32, numpy=array([0.], dtype=float32)>, <tf.Variable 'dense_30/kernel:0' shape=(1, 1) dtype=float32, numpy=array([[1.0260612]], dtype=float32)>, <tf.Variable 'dense_30/bias:0' shape=(1,) dtype=float32, numpy=array([0.], dtype=float32)>, <tf.Variable 'dense_31/kernel:0' shape=(1, 1) dtype=float32, numpy=array([[-0.9076164]], dtype=float32)>, <tf.Variable 'dense_31/bias:0' shape=(1,) dtype=float32, numpy=array([0.], dtype=float32)>, <tf.Variable 'dense_32/kernel:0' shape=(1, 1) dtype=float32, numpy=array([[1.4121834]], dtype=float32)>, <tf.Variable 'dense_32/bias:0' shape=(1,) dtype=float32, numpy=array([0.], dtype=float32)>]\n"
     ]
    }
   ],
   "source": [
    "model = Model_m9(PolyDegree+1)#add one for the constant\n",
    "model.compile()#, loss= CustomTensorFlowLoss())\n",
    "print(model.model.summary())\n",
    "print()\n",
    "print(model.trainable_weights)\n",
    "lossArray = []\n"
   ]
  },
  {
   "cell_type": "code",
   "execution_count": 246,
   "metadata": {},
   "outputs": [],
   "source": [
    "\n",
    "lr_schedule = tf.keras.optimizers.schedules.ExponentialDecay(initial_learning_rate=0.00001,decay_steps=100000,decay_rate=0.86,staircase=True)\n",
    "#lr_schedule = 0.000001\n",
    "optimizer = tf.keras.optimizers.Adam(learning_rate=lr_schedule)\n"
   ]
  },
  {
   "cell_type": "code",
   "execution_count": 229,
   "metadata": {},
   "outputs": [
    {
     "name": "stdout",
     "output_type": "stream",
     "text": [
      "1.239710728509328\n",
      "2.6463569006790904\n"
     ]
    }
   ],
   "source": [
    "print(x_forModel[0])\n",
    "print(f(x_forModel[0]))\n"
   ]
  },
  {
   "cell_type": "code",
   "execution_count": 169,
   "metadata": {},
   "outputs": [
    {
     "name": "stdout",
     "output_type": "stream",
     "text": [
      "tf.Tensor([[2.565999]], shape=(1, 1), dtype=float32)\n"
     ]
    }
   ],
   "source": [
    "\n",
    "y_pred = model.model(np.reshape(x_forModel[0,:],(1,PolyDegree+1)), training=True)\n",
    "print(y_pred)"
   ]
  },
  {
   "cell_type": "code",
   "execution_count": 230,
   "metadata": {},
   "outputs": [],
   "source": [
    "@tf.custom_gradient\n",
    "def loss_fn(y_true,y_pred):\n",
    "    lossVal, gradVal = absLoss(y_true,y_pred)\n",
    "    lossVal = tf.reshape(lossVal,shape=(1,1))\n",
    "    gradVal = tf.reshape(gradVal,shape=(1,1))\n",
    "    #print(\"lossval and grad=\",lossVal,gradVal)\n",
    "    def grad(upstream):\n",
    "        #print(\"\\tGradient parameters:\\n\",upstream)\n",
    "        pred_grad = upstream * gradVal\n",
    "        #var_grad = upstream * tf.constant(1)\n",
    "        #print(\"\\tPredGrad = \",pred_grad)\n",
    "        return pred_grad,upstream\n",
    "    \n",
    "    #print(\"lossVal = \",lossVal)\n",
    "    return lossVal, grad\n",
    "\n",
    "\n",
    "@tf.custom_gradient\n",
    "def foo_custom_grad(x):\n",
    "    y = np.square(x)\n",
    "    def grad_fn(dy):\n",
    "        grad = 2 * np.array(x)\n",
    "        return grad * dy\n",
    "    return y, grad_fn\n",
    "\n",
    "@tf.custom_gradient\n",
    "def custom_operation(x, y):\n",
    "    print(\"custom operation:\",x,y)\n",
    "    # define the gradient\n",
    "    def grad(g):\n",
    "        \n",
    "        print(\"\\tcustomGrad:\",g)\n",
    "        return g, g\n",
    "    \n",
    "    forward_pass = x * y\n",
    "    print(\"Forward pass:\",forward_pass)\n",
    "\n",
    "    return forward_pass, grad"
   ]
  },
  {
   "cell_type": "code",
   "execution_count": 248,
   "metadata": {},
   "outputs": [
    {
     "name": "stdout",
     "output_type": "stream",
     "text": [
      "\n",
      "Start of epoch 0\n",
      "Training loss at epoch 0: 30279.7805\n",
      "\n",
      "Start of epoch 1\n",
      "Training loss at epoch 1: 30888.8699\n",
      "\n",
      "Start of epoch 2\n",
      "Training loss at epoch 2: 29458.9227\n",
      "\n",
      "Start of epoch 3\n",
      "Training loss at epoch 3: 32945.3838\n",
      "\n",
      "Start of epoch 4\n",
      "Training loss at epoch 4: 30267.0711\n",
      "\n",
      "Start of epoch 5\n",
      "Training loss at epoch 5: 33870.9380\n",
      "\n",
      "Start of epoch 6\n",
      "Training loss at epoch 6: 28600.8641\n",
      "\n",
      "Start of epoch 7\n",
      "Training loss at epoch 7: 27359.6729\n",
      "\n",
      "Start of epoch 8\n",
      "Training loss at epoch 8: 26584.7632\n",
      "\n",
      "Start of epoch 9\n",
      "Training loss at epoch 9: 35449.1254\n",
      "\n",
      "Start of epoch 10\n",
      "Training loss at epoch 10: 30587.3018\n",
      "\n",
      "Start of epoch 11\n",
      "Training loss at epoch 11: 30691.2498\n",
      "\n",
      "Start of epoch 12\n",
      "Training loss at epoch 12: 30616.4985\n",
      "\n",
      "Start of epoch 13\n",
      "Training loss at epoch 13: 31373.7088\n",
      "\n",
      "Start of epoch 14\n",
      "Training loss at epoch 14: 25365.0988\n",
      "\n",
      "Start of epoch 15\n",
      "Training loss at epoch 15: 27787.8835\n",
      "\n",
      "Start of epoch 16\n",
      "Training loss at epoch 16: 29030.3443\n",
      "\n",
      "Start of epoch 17\n",
      "Training loss at epoch 17: 24617.2832\n",
      "\n",
      "Start of epoch 18\n",
      "Training loss at epoch 18: 28712.6596\n",
      "\n",
      "Start of epoch 19\n",
      "Training loss at epoch 19: 32846.3210\n",
      "\n",
      "Start of epoch 20\n",
      "Training loss at epoch 20: 29703.1243\n",
      "\n",
      "Start of epoch 21\n",
      "Training loss at epoch 21: 30334.6480\n",
      "\n",
      "Start of epoch 22\n",
      "Training loss at epoch 22: 30058.7701\n",
      "\n",
      "Start of epoch 23\n",
      "Training loss at epoch 23: 33049.4891\n",
      "\n",
      "Start of epoch 24\n",
      "Training loss at epoch 24: 25022.8011\n",
      "\n",
      "Start of epoch 25\n",
      "Training loss at epoch 25: 30695.0491\n",
      "\n",
      "Start of epoch 26\n",
      "Training loss at epoch 26: 30518.7944\n",
      "\n",
      "Start of epoch 27\n",
      "Training loss at epoch 27: 30797.1173\n",
      "\n",
      "Start of epoch 28\n",
      "Training loss at epoch 28: 23708.9059\n",
      "\n",
      "Start of epoch 29\n",
      "Training loss at epoch 29: 29530.4040\n",
      "\n",
      "Start of epoch 30\n",
      "Training loss at epoch 30: 29591.7881\n",
      "\n",
      "Start of epoch 31\n",
      "Training loss at epoch 31: 33284.3163\n",
      "\n",
      "Start of epoch 32\n",
      "Training loss at epoch 32: 30938.8131\n",
      "\n",
      "Start of epoch 33\n",
      "Training loss at epoch 33: 29470.9548\n",
      "\n",
      "Start of epoch 34\n",
      "Training loss at epoch 34: 36112.1502\n",
      "\n",
      "Start of epoch 35\n",
      "Training loss at epoch 35: 29289.1227\n",
      "\n",
      "Start of epoch 36\n",
      "Training loss at epoch 36: 30014.2847\n",
      "\n",
      "Start of epoch 37\n",
      "Training loss at epoch 37: 26090.4286\n",
      "\n",
      "Start of epoch 38\n",
      "Training loss at epoch 38: 28527.5571\n",
      "\n",
      "Start of epoch 39\n",
      "Training loss at epoch 39: 27701.9716\n",
      "\n",
      "Start of epoch 40\n",
      "Training loss at epoch 40: 34190.6108\n",
      "\n",
      "Start of epoch 41\n",
      "Training loss at epoch 41: 24117.5725\n",
      "\n",
      "Start of epoch 42\n",
      "Training loss at epoch 42: 25879.3420\n",
      "\n",
      "Start of epoch 43\n",
      "Training loss at epoch 43: 26298.1668\n",
      "\n",
      "Start of epoch 44\n",
      "Training loss at epoch 44: 28556.0107\n",
      "\n",
      "Start of epoch 45\n",
      "Training loss at epoch 45: 26872.4304\n",
      "\n",
      "Start of epoch 46\n",
      "Training loss at epoch 46: 31688.3981\n",
      "\n",
      "Start of epoch 47\n",
      "Training loss at epoch 47: 28641.2833\n",
      "\n",
      "Start of epoch 48\n",
      "Training loss at epoch 48: 26022.9598\n",
      "\n",
      "Start of epoch 49\n",
      "Training loss at epoch 49: 28333.5945\n",
      "\n",
      "Start of epoch 50\n",
      "Training loss at epoch 50: 31939.5478\n",
      "\n",
      "Start of epoch 51\n",
      "Training loss at epoch 51: 29301.4620\n",
      "\n",
      "Start of epoch 52\n",
      "Training loss at epoch 52: 30681.3700\n",
      "\n",
      "Start of epoch 53\n",
      "Training loss at epoch 53: 28381.3507\n",
      "\n",
      "Start of epoch 54\n",
      "Training loss at epoch 54: 29223.0955\n",
      "\n",
      "Start of epoch 55\n",
      "Training loss at epoch 55: 30822.3962\n",
      "\n",
      "Start of epoch 56\n",
      "Training loss at epoch 56: 29582.2706\n",
      "\n",
      "Start of epoch 57\n",
      "Training loss at epoch 57: 24676.0024\n",
      "\n",
      "Start of epoch 58\n",
      "Training loss at epoch 58: 28853.9200\n",
      "\n",
      "Start of epoch 59\n",
      "Training loss at epoch 59: 27917.1374\n",
      "\n",
      "Start of epoch 60\n",
      "Training loss at epoch 60: 31867.8688\n",
      "\n",
      "Start of epoch 61\n",
      "Training loss at epoch 61: 31887.5076\n",
      "\n",
      "Start of epoch 62\n",
      "Training loss at epoch 62: 33645.2372\n",
      "\n",
      "Start of epoch 63\n",
      "Training loss at epoch 63: 32060.8590\n",
      "\n",
      "Start of epoch 64\n",
      "Training loss at epoch 64: 28010.0473\n",
      "\n",
      "Start of epoch 65\n",
      "Training loss at epoch 65: 28392.0171\n",
      "\n",
      "Start of epoch 66\n",
      "Training loss at epoch 66: 29723.4398\n",
      "\n",
      "Start of epoch 67\n",
      "Training loss at epoch 67: 28603.4149\n",
      "\n",
      "Start of epoch 68\n",
      "Training loss at epoch 68: 29873.5813\n",
      "\n",
      "Start of epoch 69\n",
      "Training loss at epoch 69: 23959.4341\n",
      "\n",
      "Start of epoch 70\n",
      "Training loss at epoch 70: 29824.8045\n",
      "\n",
      "Start of epoch 71\n",
      "Training loss at epoch 71: 29098.1747\n",
      "\n",
      "Start of epoch 72\n",
      "Training loss at epoch 72: 26318.7771\n",
      "\n",
      "Start of epoch 73\n",
      "Training loss at epoch 73: 28693.6142\n",
      "\n",
      "Start of epoch 74\n",
      "Training loss at epoch 74: 27427.5868\n",
      "\n",
      "Start of epoch 75\n",
      "Training loss at epoch 75: 30235.4046\n",
      "\n",
      "Start of epoch 76\n",
      "Training loss at epoch 76: 30321.3737\n",
      "\n",
      "Start of epoch 77\n",
      "Training loss at epoch 77: 34441.6645\n",
      "\n",
      "Start of epoch 78\n",
      "Training loss at epoch 78: 30334.2317\n",
      "\n",
      "Start of epoch 79\n",
      "Training loss at epoch 79: 32837.3380\n",
      "\n",
      "Start of epoch 80\n",
      "Training loss at epoch 80: 32533.8279\n",
      "\n",
      "Start of epoch 81\n",
      "Training loss at epoch 81: 29338.2558\n",
      "\n",
      "Start of epoch 82\n",
      "Training loss at epoch 82: 30070.5940\n",
      "\n",
      "Start of epoch 83\n",
      "Training loss at epoch 83: 28374.6318\n",
      "\n",
      "Start of epoch 84\n",
      "Training loss at epoch 84: 35282.7433\n",
      "\n",
      "Start of epoch 85\n",
      "Training loss at epoch 85: 29490.8367\n",
      "\n",
      "Start of epoch 86\n",
      "Training loss at epoch 86: 31852.9948\n",
      "\n",
      "Start of epoch 87\n",
      "Training loss at epoch 87: 26413.4251\n",
      "\n",
      "Start of epoch 88\n",
      "Training loss at epoch 88: 31640.1360\n",
      "\n",
      "Start of epoch 89\n",
      "Training loss at epoch 89: 28515.6451\n",
      "\n",
      "Start of epoch 90\n",
      "Training loss at epoch 90: 29108.4258\n",
      "\n",
      "Start of epoch 91\n",
      "Training loss at epoch 91: 25837.5792\n",
      "\n",
      "Start of epoch 92\n",
      "Training loss at epoch 92: 37374.7496\n",
      "\n",
      "Start of epoch 93\n",
      "Training loss at epoch 93: 27801.0473\n",
      "\n",
      "Start of epoch 94\n",
      "Training loss at epoch 94: 26325.3080\n",
      "\n",
      "Start of epoch 95\n",
      "Training loss at epoch 95: 30809.3382\n",
      "\n",
      "Start of epoch 96\n",
      "Training loss at epoch 96: 30944.6783\n",
      "\n",
      "Start of epoch 97\n",
      "Training loss at epoch 97: 28724.8857\n",
      "\n",
      "Start of epoch 98\n",
      "Training loss at epoch 98: 32341.6330\n",
      "\n",
      "Start of epoch 99\n",
      "Training loss at epoch 99: 30763.1443\n"
     ]
    }
   ],
   "source": [
    "epochs = 100 \n",
    "batchSize = numPoints//epochs\n",
    "lossOfAllTrainings = []\n",
    "#loss_fn = CustomTensorFlowLoss()\n",
    "for epoch in range(epochs):\n",
    "    print(\"\\nStart of epoch %d\" % (epoch,))\n",
    "    batchLoss = []\n",
    "    for batchNum in range(batchSize):\n",
    "        dataPoint_x = np.reshape(x_forModel[epoch*batchSize + batchNum],(1,PolyDegree+1))\n",
    "        dataPoint_y = y_forModel[epoch*batchSize + batchNum]\n",
    "\n",
    "        #print(dataPoint_x)\n",
    "        #print(dataPoint_y)\n",
    "\n",
    "        # Iterate over the batches of the dataset.\n",
    "\n",
    "        # Open a GradientTape to record the operations run\n",
    "        # during the forward pass, which enables auto-differentiation.\n",
    "        with tf.GradientTape(persistent=True) as tape:\n",
    "\n",
    "            # Run the forward pass of the layer.\n",
    "            # The operations that the layer applies\n",
    "            # to its inputs are going to be recorded\n",
    "            # on the GradientTape.\n",
    "            y_pred = model.model(dataPoint_x, training=True)  # Logits for this minibatch\n",
    "            \n",
    "            #with tape.stop_recording(): \n",
    "            #print(\"\\nypred:\",y_pred)\n",
    "            loss_value = loss_fn(dataPoint_y,y_pred)\n",
    "            batchLoss.append(float(np.mean(loss_value)))\n",
    "            lossOfAllTrainings.append(batchLoss[-1])\n",
    "            #loss_value = custom_operation(y_forModel,y_pred)\n",
    "            #loss_value = foo_custom_grad(y_pred)\n",
    "            #print(\"\\nabs loss:\",loss_value)\n",
    "            #loss_value = tf.keras.losses.MSE(y_forModel,y_pred)\n",
    "                \n",
    "            #print(\"\\nmseLoss:\",loss_value)\n",
    "            #print(loss_gradient)\n",
    "\n",
    "        #layerGrad = tape.gradient(loss_value,y_pred,unconnected_gradients='zero')\n",
    "        #layerGrad_var = tf.Variable(layerGrad)\n",
    "        #layerGrad_var.assign(loss_gradient)\n",
    "        #layerGrad[0] = loss_gradient\n",
    "        #print(layerGrad_var)\n",
    "        #print(layerGrad)\n",
    "        \n",
    "        # Use the gradient tape to automatically retrieve\n",
    "        # the gradients of the trainable variables with respect to the loss.\n",
    "        #grads = tape.gradient(loss_value, model.trainable_weights)#,output_gradients=loss_gradient,unconnected_gradients='zero')\n",
    "        grads = tape.gradient(loss_value, model.trainable_weights,unconnected_gradients='zero')\n",
    "        #print()\n",
    "        #print(\"\\nGradients:\",grads)\n",
    "        #print()\n",
    "        # Run one step of gradient descent by updating\n",
    "        # the value of the variables to minimize the loss.\n",
    "        optimizer.apply_gradients(zip(grads, model.trainable_weights))\n",
    "        #print(model.trainable_weights)\n",
    "\n",
    "    # Log every 200 batches.\n",
    "    lossArray.append(float(np.mean(batchLoss)))\n",
    "    print(\n",
    "        \"Training loss at epoch %d: %.4f\"\n",
    "        % (epoch, lossArray[-1])\n",
    "    )  \n",
    "    \n",
    "    #print(\"Seen so far: %s samples\" % ((step + 1) * batch_size))\n",
    "del tape"
   ]
  },
  {
   "cell_type": "code",
   "execution_count": 234,
   "metadata": {},
   "outputs": [
    {
     "name": "stdout",
     "output_type": "stream",
     "text": [
      "[<tf.Variable 'dense_24/kernel:0' shape=(1, 1) dtype=float32, numpy=array([[1.1537347]], dtype=float32)>, <tf.Variable 'dense_24/bias:0' shape=(1,) dtype=float32, numpy=array([-0.10002164], dtype=float32)>, <tf.Variable 'dense_25/kernel:0' shape=(1, 1) dtype=float32, numpy=array([[1.568524]], dtype=float32)>, <tf.Variable 'dense_25/bias:0' shape=(1,) dtype=float32, numpy=array([-0.0999915], dtype=float32)>]\n"
     ]
    }
   ],
   "source": [
    "print(model.trainable_weights)"
   ]
  },
  {
   "cell_type": "code",
   "execution_count": null,
   "metadata": {},
   "outputs": [],
   "source": [
    "hist = model.fit(x_forModel,y_forModel,\n",
    "                 epochs=1,\n",
    "                 validation_split=.1,\n",
    "                 shuffle=True)"
   ]
  },
  {
   "cell_type": "code",
   "execution_count": null,
   "metadata": {},
   "outputs": [],
   "source": [
    "def plotHistory(hist):\n",
    "    fig,ax = plt.subplots(1,1)\n",
    "    ax.set_title(\"\")\n",
    "    keys = hist.history.keys()\n",
    "    y = np.arange(1,hist.params['epochs']+1)\n",
    "    for key in keys:\n",
    "        if('output' in key):\n",
    "            minVal = min(hist.history[key])\n",
    "            meanVal = np.mean(hist.history[key])\n",
    "            maxVal = max(hist.history[key])\n",
    "            if(minVal != maxVal):\n",
    "                print(\"{}:\\n\\tmin:{}\\n\\tmean:{}\\n\\tmax:{}\".format(key,minVal,meanVal,maxVal))\n",
    "                #ax.plot(y,hist.history[key],linewidth=0.5,label=key)\n",
    "        else:\n",
    "            ax.plot(y,hist.history[key],label=key)\n",
    "            minVal = min(hist.history[key])\n",
    "            meanVal = np.mean(hist.history[key])\n",
    "            maxVal = max(hist.history[key])\n",
    "            print(\"{}:\\n\\tmin:{}\\n\\tmean:{}\\n\\tmax:{}\".format(key,minVal,meanVal,maxVal))\n",
    "    \n",
    "    plt.legend(bbox_to_anchor=(1.05, 1.0), loc='upper left')\n",
    "    plt.show()"
   ]
  },
  {
   "cell_type": "code",
   "execution_count": null,
   "metadata": {},
   "outputs": [],
   "source": [
    "plotHistory(hist)"
   ]
  },
  {
   "cell_type": "code",
   "execution_count": 249,
   "metadata": {},
   "outputs": [
    {
     "data": {
      "image/png": "[encoded data removed]",
      "text/plain": [
       "<Figure size 432x288 with 1 Axes>"
      ]
     },
     "metadata": {
      "needs_background": "light"
     },
     "output_type": "display_data"
    },
    {
     "data": {
      "image/png": "[encoded data removed]",
      "text/plain": [
       "<Figure size 432x288 with 1 Axes>"
      ]
     },
     "metadata": {
      "needs_background": "light"
     },
     "output_type": "display_data"
    }
   ],
   "source": [
    "plt.plot(np.arange(len(lossArray)),lossArray)\n",
    "plt.show()\n",
    "plt.plot(np.arange(len(lossOfAllTrainings)),lossOfAllTrainings)\n",
    "plt.show()"
   ]
  },
  {
   "cell_type": "code",
   "execution_count": 251,
   "metadata": {},
   "outputs": [
    {
     "name": "stdout",
     "output_type": "stream",
     "text": [
      "32/32 [==============================] - 0s 1ms/step\n",
      "(1000, 1)\n"
     ]
    },
    {
     "data": {
      "text/plain": [
       "[<matplotlib.lines.Line2D at 0x1fba9844bc8>]"
      ]
     },
     "execution_count": 251,
     "metadata": {},
     "output_type": "execute_result"
    },
    {
     "data": {
      "image/png": "[encoded data removed]",
      "text/plain": [
       "<Figure size 432x288 with 1 Axes>"
      ]
     },
     "metadata": {
      "needs_background": "light"
     },
     "output_type": "display_data"
    }
   ],
   "source": [
    "#visualizeOutputs\n",
    "\n",
    "y_pred = model.predict(x)#np.polynomial.polynomial.polyvander(x,PolyDegree))\n",
    "print(y_pred.shape)\n",
    "plt.plot(x,y_pred)"
   ]
  }
 ],
 "metadata": {
  "kernelspec": {
   "display_name": "Python 3",
   "language": "python",
   "name": "python3"
  },
  "language_info": {
   "codemirror_mode": {
    "name": "ipython",
    "version": 3
   },
   "file_extension": ".py",
   "mimetype": "text/x-python",
   "name": "python",
   "nbconvert_exporter": "python",
   "pygments_lexer": "ipython3",
   "version": "3.7.9"
  },
  "orig_nbformat": 4
 },
 "nbformat": 4,
 "nbformat_minor": 2
}
