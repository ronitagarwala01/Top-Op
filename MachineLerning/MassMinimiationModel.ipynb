{
 "cells": [
  {
   "cell_type": "code",
   "execution_count": 1,
   "metadata": {},
   "outputs": [],
   "source": [
    "import matplotlib.pyplot as plt\n",
    "from matplotlib import colors\n",
    "import numpy as np\n",
    "import os\n",
    "from time import time"
   ]
  },
  {
   "cell_type": "code",
   "execution_count": null,
   "metadata": {},
   "outputs": [],
   "source": [
    "import tensorflow as tf\n",
    "\n",
    "from sklearn.model_selection import train_test_split\n",
    "from tensorflow import keras\n",
    "from tensorflow.keras import layers\n",
    "from tensorflow.keras.utils import plot_model"
   ]
  },
  {
   "cell_type": "code",
   "execution_count": 2,
   "metadata": {},
   "outputs": [],
   "source": [
    "from GetMassData import *\n",
    "from ModelData import *"
   ]
  },
  {
   "cell_type": "code",
   "execution_count": null,
   "metadata": {},
   "outputs": [],
   "source": [
    "import json"
   ]
  },
  {
   "cell_type": "code",
   "execution_count": 3,
   "metadata": {},
   "outputs": [
    {
     "ename": "FileNotFoundError",
     "evalue": "[WinError 3] The system cannot find the path specified: 'E:\\\\TopoptGAfileSaves\\\\Mass minimization\\\\Mirror test\\\\Agents\\\\100_50'",
     "output_type": "error",
     "traceback": [
      "\u001b[1;31m---------------------------------------------------------------------------\u001b[0m",
      "\u001b[1;31mFileNotFoundError\u001b[0m                         Traceback (most recent call last)",
      "\u001b[1;32m~\\AppData\\Local\\Temp/ipykernel_844/3310494380.py\u001b[0m in \u001b[0;36m<module>\u001b[1;34m\u001b[0m\n\u001b[0;32m      4\u001b[0m \u001b[0mDATA_FILE_PATH\u001b[0m \u001b[1;33m=\u001b[0m \u001b[0mos\u001b[0m\u001b[1;33m.\u001b[0m\u001b[0mpath\u001b[0m\u001b[1;33m.\u001b[0m\u001b[0mjoin\u001b[0m\u001b[1;33m(\u001b[0m\u001b[0mdataDirectory\u001b[0m\u001b[1;33m,\u001b[0m\u001b[1;34m'100_50'\u001b[0m\u001b[1;33m)\u001b[0m\u001b[1;33m\u001b[0m\u001b[1;33m\u001b[0m\u001b[0m\n\u001b[0;32m      5\u001b[0m \u001b[1;33m\u001b[0m\u001b[0m\n\u001b[1;32m----> 6\u001b[1;33m \u001b[0mdir_list\u001b[0m \u001b[1;33m=\u001b[0m \u001b[0mos\u001b[0m\u001b[1;33m.\u001b[0m\u001b[0mlistdir\u001b[0m\u001b[1;33m(\u001b[0m\u001b[0mDATA_FILE_PATH\u001b[0m\u001b[1;33m)\u001b[0m\u001b[1;33m\u001b[0m\u001b[1;33m\u001b[0m\u001b[0m\n\u001b[0m\u001b[0;32m      7\u001b[0m \u001b[0mmax_data_points\u001b[0m \u001b[1;33m=\u001b[0m \u001b[0mlen\u001b[0m\u001b[1;33m(\u001b[0m\u001b[0mdir_list\u001b[0m\u001b[1;33m)\u001b[0m\u001b[1;33m\u001b[0m\u001b[1;33m\u001b[0m\u001b[0m\n\u001b[0;32m      8\u001b[0m \u001b[0mprint\u001b[0m\u001b[1;33m(\u001b[0m\u001b[1;34m\"Number of data points: {}\"\u001b[0m\u001b[1;33m.\u001b[0m\u001b[0mformat\u001b[0m\u001b[1;33m(\u001b[0m\u001b[0mlen\u001b[0m\u001b[1;33m(\u001b[0m\u001b[0mdir_list\u001b[0m\u001b[1;33m)\u001b[0m\u001b[1;33m)\u001b[0m\u001b[1;33m)\u001b[0m\u001b[1;33m\u001b[0m\u001b[1;33m\u001b[0m\u001b[0m\n",
      "\u001b[1;31mFileNotFoundError\u001b[0m: [WinError 3] The system cannot find the path specified: 'E:\\\\TopoptGAfileSaves\\\\Mass minimization\\\\Mirror test\\\\Agents\\\\100_50'"
     ]
    }
   ],
   "source": [
    "#overview of the data\n",
    "#dataDirectory = os.path.join(os.getcwd(),'data')\n",
    "dataDirectory = os.path.join(\"E:\\TopoptGAfileSaves\",\"Mass minimization\",\"Mirror test\",\"Agents\")\n",
    "DATA_FILE_PATH = os.path.join(dataDirectory,'100_50')\n",
    "\n",
    "dir_list = os.listdir(DATA_FILE_PATH)\n",
    "max_data_points = len(dir_list)\n",
    "print(\"Number of data points: {}\".format(len(dir_list)))\n",
    "print(dir_list[0])"
   ]
  },
  {
   "cell_type": "code",
   "execution_count": 8,
   "metadata": {},
   "outputs": [
    {
     "name": "stdout",
     "output_type": "stream",
     "text": [
      "There are 1035 files to explore.\n",
      "99.9%\t\r"
     ]
    }
   ],
   "source": [
    "dataDirectory = os.path.join(\"E:\\TopoptGAfileSaves\",\"Mass minimization\",\"JustMirrored\",\"Agents\",\"100_50\")\n",
    "path = dataDirectory#os.path.join(dataDirectory,'100_50')\n",
    "AgentsToGrab = os.listdir(path)\n",
    "numAgents = len(AgentsToGrab)\n",
    "print(\"There are {} files to explore.\".format(numAgents))\n",
    "\n",
    "fx_array = []\n",
    "fy_array = []\n",
    "Youngs_array = []\n",
    "compliance_array = []\n",
    "stress_array = []\n",
    "for i,agent in enumerate(AgentsToGrab):\n",
    "    print(\"{:.1f}%\\t\".format(100*(i/numAgents)),end='\\r')\n",
    "    agentFiles = os.listdir(os.path.join(path,agent))\n",
    "    for fileName in agentFiles:\n",
    "        if('loadConditions' in fileName):\n",
    "            loadConditions = np.load(os.path.join(path,agent,fileName))\n",
    "            #print('loadCondtions Exist')\n",
    "            formated = unpackLoadConditions(loadConditions)\n",
    "            circles = formated[0]\n",
    "            radii = formated[1]\n",
    "            forces = formated[2]\n",
    "            nelx, nely = formated[3], formated[4]\n",
    "            Youngs, C_max, S_max = formated[5], formated[6], formated[7]\n",
    "            fx_array.append(forces[0][0])\n",
    "            fx_array.append(forces[0][1])\n",
    "            fx_array.append(forces[0][2])\n",
    "            fy_array.append(forces[1][0])\n",
    "            fy_array.append(forces[1][1])\n",
    "            fy_array.append(forces[1][2])\n",
    "            Youngs_array.append(Youngs)\n",
    "            compliance_array.append(C_max)\n",
    "            stress_array.append(S_max)\n",
    "            break\n",
    "            \n",
    "        \n"
   ]
  },
  {
   "cell_type": "code",
   "execution_count": 9,
   "metadata": {},
   "outputs": [
    {
     "name": "stdout",
     "output_type": "stream",
     "text": [
      "-1.7574776845853685e-14\n",
      "7.029910738341474e-15\n",
      "290356298579.3859\n",
      "0.035746117500717454\n",
      "15551058.8005205\n"
     ]
    }
   ],
   "source": [
    "print(np.mean(fx_array))\n",
    "print(np.mean(fy_array))\n",
    "print(np.mean(Youngs_array))\n",
    "print(np.mean(compliance_array))\n",
    "print(np.mean(stress_array))"
   ]
  },
  {
   "cell_type": "code",
   "execution_count": 35,
   "metadata": {},
   "outputs": [],
   "source": [
    "def formatStats(array):\n",
    "    print(\"min:\",np.min(array))\n",
    "    print(\"mean:\",np.mean(array))\n",
    "    print(\"max:\",np.max(array))\n",
    "\n",
    "    print(\"Normalizing\")\n",
    "    # Forces\n",
    "    # ar2 = np.array(array) \n",
    "    # ar2_mean = np.mean(np.abs(ar2))\n",
    "    # ar2 = ar2 / ar2_mean\n",
    "    ar2 = np.array(array) \n",
    "    ar2_mean = np.mean(ar2)\n",
    "    ar2 = ar2 / ar2_mean\n",
    "    print(\"min:\",np.min(ar2))\n",
    "    print(\"mean:\",np.mean(ar2))\n",
    "    print(\"max:\",np.max(ar2))\n",
    "\n",
    "    print(ar2_mean)"
   ]
  },
  {
   "cell_type": "code",
   "execution_count": 36,
   "metadata": {},
   "outputs": [
    {
     "name": "stdout",
     "output_type": "stream",
     "text": [
      "min: 3240327.2766612205\n",
      "mean: 15551058.8005205\n",
      "max: 47236291.42079859\n",
      "Normalizing\n",
      "min: 0.2083669876261265\n",
      "mean: 1.0\n",
      "max: 3.0374968049903828\n",
      "15551058.8005205\n"
     ]
    }
   ],
   "source": [
    "formatStats(stress_array)"
   ]
  },
  {
   "attachments": {},
   "cell_type": "markdown",
   "metadata": {},
   "source": [
    "The sequence class will hold each problem statement as a sequence of all the iterations.\n",
    "It will hold the load conditions as well as each iteration.\n",
    "<ol>\n",
    "<li>When training the model, some fraction of the sequences will be called and the model will train on them.</li>\n",
    "<li>The model will then be given some other fraction of seqences to predict.</li>\n",
    "<li>These predictions will be maped to their original inputs and will be re-outputed as new problem statment iterations.</li>\n",
    "<li>The new(Model predicted) datapoints can then be inputed back into the model for training.</li>\n",
    "</ol>"
   ]
  },
  {
   "cell_type": "code",
   "execution_count": null,
   "metadata": {},
   "outputs": [],
   "source": [
    "FORCE_NORMILIZATION_FACTOR = 7000\n",
    "YOUNGS_MODULUS_NORMILIZATION_FACTOR = 238000000000\n",
    "COMPLIANCE_MAX_NORMILIZATION_FACTOR = 0.03\n",
    "STRESS_MAX_NORMILIZATION_FACTOR = 15000000\n",
    "\n",
    "class TopOptSequence:\n",
    "    def __init__(self,ID,formatted,x_array,numIterations,converged):\n",
    "        self.ID = ID\n",
    "        self.loadCondtions = formatted\n",
    "        self.xPhys_array = x_array\n",
    "        self.numIterations = numIterations\n",
    "        self.nelx = self.loadCondtions[3]\n",
    "        self.nely = self.loadCondtions[4]\n",
    "        self.converged = converged\n",
    "    \n",
    "    def formatLoadCondtions(self):\n",
    "        circles = self.loadCondtions[0]\n",
    "        radii = self.loadCondtions[1]\n",
    "        forces = self.loadCondtions[2]\n",
    "        nelx, nely = self.loadCondtions[3], self.loadCondtions[4]\n",
    "        Youngs, C_max, S_max = self.loadCondtions[5], self.loadCondtions[6], self.loadCondtions[7]\n",
    "\n",
    "        x = np.linspace(0,2,nelx+1)\n",
    "        y = np.linspace(0,1,nely+1)\n",
    "        X,Y = np.meshgrid(x,y)\n",
    "\n",
    "        def dist(num):\n",
    "            return np.sqrt((X-circles[0][num])**2 + (Y-circles[1][num])**2) - radii[num]\n",
    "\n",
    "        circleImage = np.minimum(dist(0),np.minimum(dist(1),dist(2)))\n",
    "        circleImage = np.where(circleImage >= 0, 0,1)\n",
    "\n",
    "        circleImage = np.reshape(circleImage.T,(nelx+1,nely+1,1))\n",
    "\n",
    "        res = min(nelx,nely)\n",
    "\n",
    "        forceImageX = np.zeros((nelx+1,nely+1,1))\n",
    "        forceImageY = np.zeros((nelx+1,nely+1,1))\n",
    "        for i in range(3):\n",
    "            fx = forces[0][i] / FORCE_NORMILIZATION_FACTOR\n",
    "            fy = forces[1][i] / FORCE_NORMILIZATION_FACTOR\n",
    "            x_coord = int(circles[0][i] * res)\n",
    "            y_coord = int(circles[1][i] * res)\n",
    "            forceImageX[x_coord,y_coord,0] = fx\n",
    "            forceImageY[x_coord,y_coord,0] = fy\n",
    "\n",
    "            \n",
    "        #print(\"Y.shape:\",Y.shape)\n",
    "\n",
    "        Y_image = (Youngs / YOUNGS_MODULUS_NORMILIZATION_FACTOR )*np.ones((nelx+1,nely+1,1))\n",
    "        c_max_image = (C_max / COMPLIANCE_MAX_NORMILIZATION_FACTOR )*np.ones((nelx+1,nely+1,1))\n",
    "        s_max_image = (S_max / STRESS_MAX_NORMILIZATION_FACTOR )*np.ones((nelx+1,nely+1,1))\n",
    "\n",
    "        # print(\"circleImage.shape:\",circleImage.shape)\n",
    "        # print(\"forceImageX.shape:\",forceImageX.shape)\n",
    "        # print(\"forceImageY.shape:\",forceImageY.shape)\n",
    "        # print(\"Y_image.shape:\",Y_image.shape)\n",
    "        # print(\"c_max_image.shape:\",c_max_image.shape)\n",
    "        # print(\"s_max_image.shape:\",s_max_image.shape)\n",
    "\n",
    "        loadCondtionsImage = np.concatenate([circleImage,forceImageX,forceImageY,Y_image,c_max_image,s_max_image],axis=2)\n",
    "        return loadCondtionsImage\n",
    "\n",
    "    def dispenceFirstIteration(self,iterationdepth:int=5,step:int=5):\n",
    "        StartingBlock = np.reshape(self.xPhys_array[0],(self.nelx+1,self.nely+1,1),order='F')\n",
    "        outputParts = []\n",
    "        for i in range(iterationdepth):\n",
    "            \n",
    "            jumpIndex = min(self.numIterations-1,step*(i+1))\n",
    "            outputParts.append(np.reshape(self.xPhys_array[jumpIndex],(self.nelx+1,self.nely+1,1),order='F'))\n",
    "\n",
    "        \n",
    "        formattedImage = self.formatLoadCondtions()\n",
    "\n",
    "        return StartingBlock,formattedImage,outputParts\n",
    "\n",
    "    def dispenceIteration(self,iterationNumber,iterationdepth:int=5,step:int=5):\n",
    "        iterationNumber = min(iterationNumber,self.numIterations-1)\n",
    "        StartingBlock = np.reshape(self.xPhys_array[iterationNumber],(self.nelx+1,self.nely+1,1),order='F')\n",
    "        outputParts = []\n",
    "        for i in range(iterationdepth):\n",
    "            \n",
    "            jumpIndex = min(self.numIterations-1,iterationNumber + step*(i+1))\n",
    "            outputParts.append(np.reshape(self.xPhys_array[jumpIndex],(self.nelx+1,self.nely+1,1),order='F'))\n",
    "\n",
    "        \n",
    "        formattedImage = self.formatLoadCondtions()\n",
    "\n",
    "        return StartingBlock,formattedImage,outputParts\n",
    "\n",
    "\n"
   ]
  },
  {
   "cell_type": "code",
   "execution_count": null,
   "metadata": {},
   "outputs": [],
   "source": [
    "def buildDataSet(dataPointsToGrab:int):\n",
    "\n",
    "    # Constants of interest\n",
    "    # DATA_FILE_PATH = path to agent files\n",
    "    # dir_List = all agent files\n",
    "    # max_data_points = total number of datapoints\n",
    "\n",
    "    dataPointsToGrab = min(dataPointsToGrab,max_data_points)\n",
    "\n",
    "    #randomize the data grabed so that the first thee datapoints aren't always in the data.\n",
    "    indexList = np.arange(max_data_points,dtype='int32')\n",
    "    np.random.shuffle(indexList)\n",
    "    nonConvergedCounter = 0\n",
    "\n",
    "    sequenceData = []\n",
    "    print(\"Retreiving {} Datapoints.\".format(dataPointsToGrab))\n",
    "\n",
    "    for i in range(dataPointsToGrab):\n",
    "        print(\"{:.2f}%\\t\\t\".format((100*(i/dataPointsToGrab))),end='\\r')\n",
    "        try:\n",
    "            #join the data file path to a random sorted member within the data directory\n",
    "            pathToAgent = os.path.join(DATA_FILE_PATH,dir_list[indexList[i]])\n",
    "            formated,x_array,derivatives_array,objectives_array,markName = getData(pathToAgent)\n",
    "            \n",
    "        except:\n",
    "            #if an exception occurs list it and move forward\n",
    "            print(\"Exception Occured at file '{}'.\".format(os.path.join(DATA_FILE_PATH,dir_list[indexList[i]])))\n",
    "            continue\n",
    "        else:\n",
    "            cvrg = True\n",
    "            if('NotConverged' in markName):\n",
    "                print(\"file {} has not converged.\".format(dir_list[indexList[i]]))\n",
    "                nonConvergedCounter += 1\n",
    "                cvrg = False\n",
    "            else:\n",
    "                #if no error occured append that data to the data list\n",
    "                sequenceData.append(TopOptSequence(i,formated,x_array,len(x_array),cvrg))\n",
    "\n",
    "    print(\"100%\\t\\t\")\n",
    "    print(f\"Out of {dataPointsToGrab} data points gathered, {100*(nonConvergedCounter/dataPointsToGrab)}% had not converged for a total of {nonConvergedCounter}\")\n",
    "    return sequenceData\n",
    "        \n"
   ]
  },
  {
   "cell_type": "code",
   "execution_count": null,
   "metadata": {},
   "outputs": [],
   "source": [
    "Data = buildDataSet(30)\n",
    "print(len(Data))"
   ]
  },
  {
   "cell_type": "code",
   "execution_count": null,
   "metadata": {},
   "outputs": [],
   "source": [
    "loadCondtionsImage = Data[0].formatLoadCondtions()"
   ]
  },
  {
   "cell_type": "code",
   "execution_count": null,
   "metadata": {},
   "outputs": [],
   "source": [
    "#Test Train Split\n",
    "\"\"\"\n",
    "By performing the test train split we can get a training data set and a testing dataset to get the metrics for out model\n",
    "By performing the split a second time we can get a validataion dataset that the model will never see that we can use to get out own accuracy score out of\n",
    "\"\"\"\n",
    "Data_train, Data_test = train_test_split(Data, test_size=0.8)\n",
    "print(\"Train: {}\".format(len(Data_train)))\n",
    "print(\"\\nTest: {}\".format(len(Data_test)))"
   ]
  },
  {
   "attachments": {},
   "cell_type": "markdown",
   "metadata": {},
   "source": [
    "<h1>Model Information</h1>\n",
    "\n",
    "Below are the models that will be used to attempt to learn the dataset"
   ]
  },
  {
   "cell_type": "code",
   "execution_count": null,
   "metadata": {},
   "outputs": [],
   "source": [
    "#setUp modelSaving\n",
    "\n",
    "def getModel():\n",
    "    modelNum = 9\n",
    "    model = Model_m9()\n",
    "    fileSaveName = \"Model_m{}\".format(modelNum)\n",
    "    \n",
    "    \n",
    "\n",
    "    modelPath = os.path.join(os.getcwd(),'ModelSave',fileSaveName)\n",
    "    \n",
    "    cp_callback = keras.callbacks.ModelCheckpoint(filepath=os.path.join(modelPath,fileSaveName),\n",
    "                                                     save_weights_only=True,\n",
    "                                                     verbose=1)\n",
    "    if(os.path.isdir(modelPath)):\n",
    "        try:\n",
    "            \n",
    "            model.load_weights(os.path.join(modelPath,fileSaveName))\n",
    "        except:\n",
    "            print(\"Model weights could not be loaded.\")\n",
    "        else:\n",
    "            print(\"Model weights Loaded\")\n",
    "    else:\n",
    "        os.mkdir(modelPath)\n",
    "        print(\"Model path created\")\n",
    "\n",
    "    \n",
    "    \n",
    "    model.compile(  optimizer='Adam',\n",
    "                    loss= keras.losses.BinaryCrossentropy())\n",
    "    return model,cp_callback"
   ]
  },
  {
   "cell_type": "code",
   "execution_count": null,
   "metadata": {},
   "outputs": [],
   "source": [
    "currentModelNumber = 9 #change this one\n",
    "model,callBack = getModel()\n",
    "print()\n",
    "model.model.summary()"
   ]
  },
  {
   "cell_type": "code",
   "execution_count": null,
   "metadata": {},
   "outputs": [],
   "source": [
    "def plotHistory(hist):\n",
    "    fig,ax = plt.subplots(1,1)\n",
    "    ax.set_title(\"\")\n",
    "    keys = hist.history.keys()\n",
    "    y = np.arange(1,hist.params['epochs']+1)\n",
    "    for key in keys:\n",
    "        if('output' in key):\n",
    "            minVal = min(hist.history[key])\n",
    "            meanVal = np.mean(hist.history[key])\n",
    "            maxVal = max(hist.history[key])\n",
    "            if(minVal != maxVal):\n",
    "                print(\"{}:\\n\\tmin:{}\\n\\tmean:{}\\n\\tmax:{}\".format(key,minVal,meanVal,maxVal))\n",
    "                #ax.plot(y,hist.history[key],linewidth=0.5,label=key)\n",
    "        else:\n",
    "            ax.plot(y,hist.history[key],label=key)\n",
    "            minVal = min(hist.history[key])\n",
    "            meanVal = np.mean(hist.history[key])\n",
    "            maxVal = max(hist.history[key])\n",
    "            print(\"{}:\\n\\tmin:{}\\n\\tmean:{}\\n\\tmax:{}\".format(key,minVal,meanVal,maxVal))\n",
    "    \n",
    "    plt.legend(bbox_to_anchor=(1.05, 1.0), loc='upper left')\n",
    "    plt.show()\n",
    "\n",
    "def plotHistory_lite(hist):\n",
    "    fig,ax = plt.subplots(1,1)\n",
    "    ax.set_title(\"\")\n",
    "    keys = hist.keys()\n",
    "    for key in keys:\n",
    "        if('output' in key):\n",
    "            minVal = min(hist[key])\n",
    "            meanVal = np.mean(hist[key])\n",
    "            maxVal = max(hist[key])\n",
    "            if(minVal != maxVal):\n",
    "                print(\"{}:\\n\\tmin:{}\\n\\tmean:{}\\n\\tmax:{}\".format(key,minVal,meanVal,maxVal))\n",
    "                #ax.plot(y,hist.history[key],linewidth=0.5,label=key)\n",
    "        else:\n",
    "            y = np.arange(1,len(hist[key])+1)\n",
    "            ax.plot(y,hist[key],label=key)\n",
    "            minVal = min(hist[key])\n",
    "            meanVal = np.mean(hist[key])\n",
    "            maxVal = max(hist[key])\n",
    "            print(\"{}:\\n\\tmin:{}\\n\\tmean:{}\\n\\tmax:{}\".format(key,minVal,meanVal,maxVal))\n",
    "    \n",
    "    plt.legend(bbox_to_anchor=(1.05, 1.0), loc='upper left')\n",
    "    plt.show()"
   ]
  },
  {
   "cell_type": "code",
   "execution_count": null,
   "metadata": {},
   "outputs": [],
   "source": [
    "def preTrainModelOverFirstIteration(iterationJump:int=5):\n",
    "    def createDataset(data):\n",
    "        loadCondtions = []\n",
    "        parts = []\n",
    "        outputs = []\n",
    "        for i in range(len(data)):\n",
    "            StartingBlock,formattedImage,outputParts = data[i].dispenceFirstIteration(5,iterationJump)\n",
    "            loadCondtions.append(formattedImage)\n",
    "            parts.append(StartingBlock)\n",
    "            outputArrays = []\n",
    "            for outputBlock in outputParts:\n",
    "                outputArrays.append(outputBlock)\n",
    "            outputs.append(outputArrays)\n",
    "        \n",
    "        loadCondtions = np.array(loadCondtions)\n",
    "        parts = np.array(parts)\n",
    "        outputs = np.array(outputs)\n",
    "        return loadCondtions,parts,outputs\n",
    "    \n",
    "    \n",
    "    \n",
    "    format_array,x_array,outputs_array = createDataset(Data_train)\n",
    "\n",
    "    x1 = outputs_array[:,0,:,:,:]\n",
    "    x2 = outputs_array[:,1,:,:,:]\n",
    "    x3 = outputs_array[:,2,:,:,:]\n",
    "    x4 = outputs_array[:,3,:,:,:]\n",
    "    x5 = outputs_array[:,4,:,:,:]\n",
    "\n",
    "    print(\"format_array.shape:\",format_array.shape)\n",
    "    print(\"x_array.shape:\",x_array.shape)\n",
    "    print(\"outputs_array.shape:\",outputs_array.shape)\n",
    "    print(\"x1.shape:\",x1.shape)\n",
    "    print(\"x5.shape:\",x5.shape)\n",
    "    numEpochs = 5\n",
    "    BatchSize = 32 # default tensorflow batchsize\n",
    "    numBatches = len(x_array) // BatchSize\n",
    "    BatchesPerEpoch = numBatches// numEpochs\n",
    "    print(\"Pretraining model over {} epochs.\\n\\tnumSamples: {}\\n\\tnumBatches: {}\\n\\tBatches per Epoch:{}\\n\".format(numEpochs,len(x_array),numBatches,BatchesPerEpoch))\n",
    "    \n",
    "    history1 = model.fit(\n",
    "        x={'x':x_array,'loadConditions':format_array},\n",
    "        y=(x1,x2,x3,x4,x5),\n",
    "        validation_split = 0.1,\n",
    "        epochs=numEpochs,\n",
    "        shuffle=True,\n",
    "        steps_per_epoch = BatchesPerEpoch,\n",
    "        callbacks = [callBack])\n",
    "\n",
    "    return history1\n",
    "\n",
    "    "
   ]
  },
  {
   "cell_type": "code",
   "execution_count": null,
   "metadata": {},
   "outputs": [],
   "source": [
    "h1 = preTrainModelOverFirstIteration(5)"
   ]
  },
  {
   "cell_type": "code",
   "execution_count": null,
   "metadata": {},
   "outputs": [],
   "source": [
    "plotHistory(h1)"
   ]
  },
  {
   "cell_type": "code",
   "execution_count": null,
   "metadata": {},
   "outputs": [],
   "source": [
    "def TrainModel(iterationJump:int=5):\n",
    "    def createDataset(data):\n",
    "        loadCondtions = []\n",
    "        parts = []\n",
    "        outputs = []\n",
    "        for i in range(len(data)):\n",
    "            if(data[i].converged):\n",
    "                for j in range(data[i].numIterations):\n",
    "                    StartingBlock,formattedImage,outputParts = data[i].dispenceIteration(j,5,iterationJump)\n",
    "                    loadCondtions.append(formattedImage)\n",
    "                    parts.append(StartingBlock)\n",
    "                    outputArrays = []\n",
    "                    for outputBlock in outputParts:\n",
    "                        outputArrays.append(outputBlock)\n",
    "                    outputs.append(outputArrays)\n",
    "        \n",
    "        loadCondtions = np.array(loadCondtions)\n",
    "        parts = np.array(parts)\n",
    "        outputs = np.array(outputs)\n",
    "        return loadCondtions,parts,outputs\n",
    "    \n",
    "    \n",
    "    \n",
    "    format_array,x_array,outputs_array = createDataset(Data_train)\n",
    "\n",
    "    x1 = outputs_array[:,0,:,:,:]\n",
    "    x2 = outputs_array[:,1,:,:,:]\n",
    "    x3 = outputs_array[:,2,:,:,:]\n",
    "    x4 = outputs_array[:,3,:,:,:]\n",
    "    x5 = outputs_array[:,4,:,:,:]\n",
    "\n",
    "    print(\"format_array.shape:\",format_array.shape)\n",
    "    print(\"x_array.shape:\",x_array.shape)\n",
    "    print(\"outputs_array.shape:\",outputs_array.shape)\n",
    "    print(\"x1.shape:\",x1.shape)\n",
    "    print(\"x5.shape:\",x5.shape)\n",
    "    numEpochs = 5\n",
    "    BatchSize = 32 # default tensorflow batchsize\n",
    "    numBatches = len(x_array) // BatchSize\n",
    "    BatchesPerEpoch = numBatches// numEpochs\n",
    "    print(\"Pretraining model over {} epochs.\\n\\tnumSamples: {}\\n\\tnumBatches: {}\\n\\tBatches per Epoch:{}\\n\".format(numEpochs,len(x_array),numBatches,BatchesPerEpoch))\n",
    "    \n",
    "    history1 = model.fit(\n",
    "        x={'x':x_array,'loadConditions':format_array},\n",
    "        y=(x1,x2,x3,x4,x5),\n",
    "        validation_split = 0.1,\n",
    "        epochs=numEpochs,\n",
    "        shuffle=True,\n",
    "        steps_per_epoch = BatchesPerEpoch,\n",
    "        callbacks = [callBack])\n",
    "\n",
    "    return history1\n"
   ]
  },
  {
   "cell_type": "code",
   "execution_count": null,
   "metadata": {},
   "outputs": [],
   "source": [
    "h3 = TrainModel(5)"
   ]
  },
  {
   "cell_type": "code",
   "execution_count": null,
   "metadata": {},
   "outputs": [],
   "source": [
    "h2 = TrainModel(5)"
   ]
  },
  {
   "cell_type": "code",
   "execution_count": null,
   "metadata": {},
   "outputs": [],
   "source": [
    "h1 = json.load(open(r\"C:\\Users\\Nate\\Documents\\GitHub\\SOundstuff\\Top-Op\\trainHistory_0\",'r'))"
   ]
  },
  {
   "cell_type": "code",
   "execution_count": null,
   "metadata": {},
   "outputs": [],
   "source": []
  },
  {
   "cell_type": "code",
   "execution_count": null,
   "metadata": {},
   "outputs": [],
   "source": [
    "plotHistory_lite(h1)"
   ]
  },
  {
   "cell_type": "code",
   "execution_count": null,
   "metadata": {},
   "outputs": [],
   "source": [
    "def EditImage(image):\n",
    "\n",
    "    #noise = np.random.normal(loc=0,scale=.05,size=image.shape)\n",
    "    #return image + noise\n",
    "\n",
    "    return np.flip(image,axis=0)"
   ]
  },
  {
   "cell_type": "code",
   "execution_count": null,
   "metadata": {},
   "outputs": [],
   "source": [
    "def DrawModelIteratins(num):\n",
    "    sequenceToStart:TopOptSequence = Data_test[num]\n",
    "    numImages = sequenceToStart.numIterations\n",
    "    imagesToShow = 5\n",
    "    #print(numImages)\n",
    "    fig,ax = plt.subplots(2,imagesToShow)\n",
    "\n",
    "    nelx = 100\n",
    "    nely = 50\n",
    "    StartingBlock,formattedImage,_ = sequenceToStart.dispenceFirstIteration(1,1)\n",
    "\n",
    "    formattedImage = np.array(formattedImage)\n",
    "    ImageToPredict = np.array(StartingBlock)\n",
    "    PredictedImages = [ImageToPredict]\n",
    "\n",
    "    start = time()\n",
    "    for i in range(numImages):\n",
    "        \n",
    "        output = model.predict({'x':ImageToPredict,'loadConditions':formattedImage},verbose = 0)\n",
    "        ImageToPredict = output#[0]\n",
    "        PredictedImages.append(ImageToPredict)\n",
    "    end = time()\n",
    "    print(\"{} iterations took {:.2f} seconds or about {:.5f} seconds per iteration.\".format(numImages,end-start,(end-start)/numImages))\n",
    "    imagesToJump = numImages // imagesToShow\n",
    "\n",
    "    for i in range(0,imagesToShow-1):\n",
    "        ax[0,i].imshow(np.reshape(sequenceToStart.xPhys_array[:,:,i*imagesToJump],(nelx,nely)).T,cmap='gray_r',norm=colors.Normalize(vmin=0,vmax=1))\n",
    "        ax[0,i].get_xaxis().set_visible(False)\n",
    "        ax[0,i].get_yaxis().set_visible(False)\n",
    "\n",
    "        #ax[1,i].set_title(\"Pred\")#:{}\".format(finalBit(Y_score_finished[rnd[i]])))\n",
    "        ax[1,i].imshow(np.reshape(PredictedImages[i*imagesToJump],(nelx,nely)).T,cmap='gray_r',norm=colors.Normalize(vmin=0,vmax=1))\n",
    "        ax[1,i].get_xaxis().set_visible(False)\n",
    "        ax[1,i].get_yaxis().set_visible(False)\n",
    "    ax[0,-1].imshow(np.reshape(sequenceToStart.xPhys_array[:,:,-1],(nelx,nely)).T,cmap='gray_r',norm=colors.Normalize(vmin=0,vmax=1))\n",
    "    ax[0,-1].get_xaxis().set_visible(False)\n",
    "    ax[0,-1].get_yaxis().set_visible(False)\n",
    "\n",
    "    #ax[1,i].set_title(\"Pred\")#:{}\".format(finalBit(Y_score_finished[rnd[i]])))\n",
    "    ax[1,-1].imshow(np.reshape(PredictedImages[-1],(nelx,nely)).T,cmap='gray_r',norm=colors.Normalize(vmin=0,vmax=1))\n",
    "    ax[1,-1].get_xaxis().set_visible(False)\n",
    "    ax[1,-1].get_yaxis().set_visible(False)\n",
    "\n",
    "    ax[0,0].set_title(\"True\")\n",
    "    ax[1,0].set_title(\"Pred\")\n",
    "    plt.show()\n"
   ]
  },
  {
   "cell_type": "code",
   "execution_count": null,
   "metadata": {},
   "outputs": [],
   "source": [
    "n = 0#np.random.randint(0,len(Data_score)-1)\n",
    "print(n)\n",
    "DrawModelIteratins(n)"
   ]
  },
  {
   "cell_type": "code",
   "execution_count": null,
   "metadata": {},
   "outputs": [],
   "source": [
    "#n = np.random.randint(0,len(Data_score)-1)\n",
    "n = np.arange(len(Data_score),dtype='int32')\n",
    "np.random.shuffle(n)\n",
    "print(len(n))\n",
    "for i in range(10):\n",
    "    DrawModelIteratins(n[i])"
   ]
  },
  {
   "cell_type": "code",
   "execution_count": null,
   "metadata": {},
   "outputs": [],
   "source": [
    "from PIL import Image\n",
    "import io"
   ]
  },
  {
   "cell_type": "code",
   "execution_count": null,
   "metadata": {},
   "outputs": [],
   "source": [
    "def plotOverIterations(index,data):\n",
    "    sequenceToStart = data[index]\n",
    "    numImages = sequenceToStart.numIterations\n",
    "    imagesToShow = numImages\n",
    "    #print(numImages)\n",
    "    nelx = 101\n",
    "    nely = 51\n",
    "    StartingBlock,formattedImage,_ = sequenceToStart.dispenceFirstIteration(1,1)\n",
    "\n",
    "    formattedImage = np.reshape(formattedImage,(1,nelx,nely,6))\n",
    "    ImageToPredict = np.reshape(StartingBlock,(1,nelx,nely,1))\n",
    "    PredictedImages = [ImageToPredict]\n",
    "\n",
    "    start = time()\n",
    "    for i in range(numImages):\n",
    "        \n",
    "        output = model.predict({'x':ImageToPredict,'loadConditions':formattedImage},verbose = 0)\n",
    "        ImageToPredict = output#[0]\n",
    "        PredictedImages.append(ImageToPredict)\n",
    "    end = time()\n",
    "    print(\"{} iterations took {:.2f} seconds or about {:.5f} seconds per iteration.\".format(numImages,end-start,(end-start)/numImages))\n",
    "    imagesToJump = 1\n",
    "    imageArray = []\n",
    "\n",
    "    for i,image in enumerate(PredictedImages):\n",
    "        fig,ax = plt.subplots(1,1)\n",
    "        \n",
    "        if(i == 0):\n",
    "            ax.set_title(\"Iteration: {}\".format(i))\n",
    "        else:\n",
    "            im1 = np.reshape(PredictedImages[i],(nelx*nely))\n",
    "            im2 = np.reshape(PredictedImages[i-1],(nelx*nely))\n",
    "            ax.set_title(\"Iteration: {}, Change: {:.5f}\".format(i,np.linalg.norm(im1-im2,ord=np.inf)))\n",
    "        ax.imshow(np.reshape(image,(nelx,nely)).T,cmap='gray_r',norm=colors.Normalize(vmin=0,vmax=1))\n",
    "        ax.get_xaxis().set_visible(False)\n",
    "        ax.get_yaxis().set_visible(False)\n",
    "\n",
    "        #img_buf = io.BytesIO()\n",
    "        #plt.savefig(img_buf, format='png')\n",
    "\n",
    "        #im = Image.open(img_buf)\n",
    "        #imageArray.append(im)\n",
    "\n",
    "        plt.show()\n",
    "    #return imageArray"
   ]
  },
  {
   "cell_type": "code",
   "execution_count": null,
   "metadata": {},
   "outputs": [],
   "source": [
    "plotOverIterations(1,Data_test)"
   ]
  },
  {
   "cell_type": "code",
   "execution_count": null,
   "metadata": {},
   "outputs": [],
   "source": [
    "imagesToSave = 10\n",
    "rnd = np.arange(imagesToSave,dtype='int32')\n",
    "np.random.shuffle(rnd)\n",
    "for i in range(10):\n",
    "    im_array = plotOverIterations(rnd[i],Data)\n",
    "    im = im_array[0]\n",
    "    im_array.pop(0)\n",
    "    im.save(\"out{}.gif\".format(i),save_all=True,append_images = im_array,optimize=False,loop=0)\n",
    "    im.close()"
   ]
  },
  {
   "attachments": {},
   "cell_type": "markdown",
   "metadata": {},
   "source": [
    "<h1>Thoughts</h1>\n",
    "\n",
    "M6: Looking at the model at work shows progress when loads are grouped up. Failures seem to occur with spaced load conditions and low volfrac."
   ]
  },
  {
   "attachments": {},
   "cell_type": "markdown",
   "metadata": {},
   "source": [
    "For the Unet, in order to be able to capture multiple resolutions we need to allow the downsampling to resolve issues with resolutions that are not multiples of 2.\n",
    "\n",
    "This can be solved with the following setup\n",
    "Take the resolution when a down sample occurs. Take the ceil of the down sample(5/2 = 3). Pass this to the next layer and continue untill upscaleing. When we upscale there is a possibility of the tensors that must be concatenated not being the same resolution. We take the resolution with the higher dimensions(this will always be the upsampled part, not the skip connection) and crop it by one along the nessesary dimension.\n",
    "\n",
    "Some times the cropping will be nessesary sometimes it will not be nessesary but it will always be a cropping by 1."
   ]
  },
  {
   "cell_type": "code",
   "execution_count": null,
   "metadata": {},
   "outputs": [],
   "source": [
    "m2 = Model_m8()\n",
    "m2.model.summary()"
   ]
  },
  {
   "cell_type": "code",
   "execution_count": null,
   "metadata": {},
   "outputs": [],
   "source": [
    "modelName = \"Model_m9\"\n",
    "\n",
    "modelPath = os.path.join(os.getcwd(),'ModelSave',modelName)\n",
    "model.load_weights(os.path.join(modelPath,modelName))"
   ]
  },
  {
   "cell_type": "code",
   "execution_count": null,
   "metadata": {},
   "outputs": [],
   "source": [
    "for i,layer in enumerate(m2.model.layers):\n",
    "#layer = model.model.layers[1].output\n",
    "    name = layer.name\n",
    "    #if('conv2d' in name):\n",
    "    print(i,name)\n",
    "print(len(model.model.layers))"
   ]
  },
  {
   "cell_type": "code",
   "execution_count": null,
   "metadata": {},
   "outputs": [],
   "source": [
    "for i,layer in enumerate(model.model.layers):\n",
    "#layer = model.model.layers[1].output\n",
    "    name = layer.name\n",
    "    #if('conv2d' in name):\n",
    "    print(i,name)\n",
    "print(len(model.model.layers))"
   ]
  },
  {
   "cell_type": "code",
   "execution_count": null,
   "metadata": {},
   "outputs": [],
   "source": [
    "matchups = [[11,4],[14,7],[15,8],[18,11],[19,12],[22,15],[23,16],[24,17],[27,20],[28,21],[29,22],[32,25],[33,26],[34,27],[36,29],[37,30],[39,31]]"
   ]
  },
  {
   "cell_type": "code",
   "execution_count": null,
   "metadata": {},
   "outputs": [],
   "source": [
    "for i,m2_layer in enumerate(m2.model.layers):\n",
    "    for j,m1_layer in enumerate(model.model.layers):\n",
    "        for iMatch,jMatch in matchups:\n",
    "            if(i==iMatch and j == jMatch):\n",
    "                print(f\"Getting weights from {i}:{m2_layer.name} and putting them in {j}:{m1_layer.name}\")\n",
    "                m1_layer.set_weights(m2_layer.get_weights())"
   ]
  },
  {
   "cell_type": "code",
   "execution_count": null,
   "metadata": {},
   "outputs": [],
   "source": [
    "modelName = \"Model_m9\"\n",
    "\n",
    "modelPath = os.path.join(os.getcwd(),'ModelSave',modelName)\n",
    "model.save_weights(modelPath)"
   ]
  }
 ],
 "metadata": {
  "kernelspec": {
   "display_name": "Python 3",
   "language": "python",
   "name": "python3"
  },
  "language_info": {
   "codemirror_mode": {
    "name": "ipython",
    "version": 3
   },
   "file_extension": ".py",
   "mimetype": "text/x-python",
   "name": "python",
   "nbconvert_exporter": "python",
   "pygments_lexer": "ipython3",
   "version": "3.7.9"
  },
  "orig_nbformat": 4,
  "vscode": {
   "interpreter": {
    "hash": "9d91d6363c0adb958ed116842d9c2fc7faebb1fa3beaff0888078e0808098095"
   }
  }
 },
 "nbformat": 4,
 "nbformat_minor": 2
}
