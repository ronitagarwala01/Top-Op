{
 "cells": [
  {
   "cell_type": "code",
   "execution_count": 4,
   "metadata": {},
   "outputs": [],
   "source": [
    "import matplotlib.pyplot as plt\n",
    "import numpy as np\n",
    "import os\n",
    "import pandas as pd"
   ]
  },
  {
   "cell_type": "code",
   "execution_count": null,
   "metadata": {},
   "outputs": [],
   "source": [
    "import tensorflow as tf\n",
    "\n",
    "from sklearn.model_selection import train_test_split\n",
    "from tensorflow import keras\n",
    "from tensorflow.keras import layers"
   ]
  },
  {
   "cell_type": "code",
   "execution_count": 3,
   "metadata": {},
   "outputs": [
    {
     "name": "stdout",
     "output_type": "stream",
     "text": [
      "Number of data points: 3129\n",
      "Agent1_485135\n"
     ]
    }
   ],
   "source": [
    "#overview of the data\n",
    "DATA_FILE_PATH = os.path.join(os.getcwd(),'data','100_50')\n",
    "\n",
    "dir_list = os.listdir(DATA_FILE_PATH)\n",
    "max_data_points = len(dir_list)\n",
    "print(\"Number of data points: {}\".format(len(dir_list)))\n",
    "print(dir_list[0])\n"
   ]
  },
  {
   "attachments": {},
   "cell_type": "markdown",
   "metadata": {},
   "source": [
    "<h1>Data information:</h1>\n",
    "\n",
    "All the data will bes stored in a pandas data frame\n",
    "\n",
    "Three primary datasets can be retreived from the data in the folder\n",
    "<ul>\n",
    "    <li>Iterative method data</li>\n",
    "    <li>End to End data</li>\n",
    "    <li>Compliance clasification data</li>\n",
    "</ul>"
   ]
  },
  {
   "cell_type": "code",
   "execution_count": null,
   "metadata": {},
   "outputs": [],
   "source": [
    "def unpackLoadCondtions(loadConditions):\n",
    "    forces = loadConditions['a']\n",
    "    free = loadConditions['b']\n",
    "    passive = loadConditions['c']\n",
    "    formating_array = loadConditions['d']\n",
    "\n",
    "    volfrac = formating_array[0]\n",
    "    nelx = int(formating_array[1])\n",
    "    nely = int(formating_array[2])\n",
    "    penal = formating_array[3]\n",
    "    rmin = formating_array[4]\n",
    "\n",
    "    #print(volfrac,nelx,nely)\n",
    "\n",
    "    return forces,free,passive,volfrac,nelx,nely,penal,rmin\n",
    "\n",
    "\n",
    "def unpackIteration(iteration):\n",
    "    x = iteration['a']\n",
    "    xPhys = iteration['b']\n",
    "    formating_array = iteration['c']\n",
    "\n",
    "    compliance = formating_array[0]\n",
    "    change = formating_array[1]\n",
    "    mass = formating_array[2]\n",
    "\n",
    "    #print(compliance,change,mass)\n",
    "    return x,xPhys,compliance,change,mass\n"
   ]
  },
  {
   "cell_type": "code",
   "execution_count": null,
   "metadata": {},
   "outputs": [],
   "source": []
  }
 ],
 "metadata": {
  "kernelspec": {
   "display_name": "Python 3",
   "language": "python",
   "name": "python3"
  },
  "language_info": {
   "codemirror_mode": {
    "name": "ipython",
    "version": 3
   },
   "file_extension": ".py",
   "mimetype": "text/x-python",
   "name": "python",
   "nbconvert_exporter": "python",
   "pygments_lexer": "ipython3",
   "version": "3.7.9"
  },
  "orig_nbformat": 4,
  "vscode": {
   "interpreter": {
    "hash": "9d91d6363c0adb958ed116842d9c2fc7faebb1fa3beaff0888078e0808098095"
   }
  }
 },
 "nbformat": 4,
 "nbformat_minor": 2
}
