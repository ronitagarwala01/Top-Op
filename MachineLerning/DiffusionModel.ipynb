{
 "cells": [
  {
   "cell_type": "code",
   "execution_count": null,
   "metadata": {},
   "outputs": [],
   "source": []
  },
  {
   "attachments": {},
   "cell_type": "markdown",
   "metadata": {},
   "source": [
    "A latent diffusion model takes three primary steps\n",
    "<ol>\n",
    "    <li>An auto encoder to reduce the dimensionality of the input space and a decoder to upscale the reduced dimensionality back to its true scale.</li>\n",
    "    <li>An image denoising model. Idealy this will learn to denoise the encoded space. By using cross attention, a second key vector can guide the denoising process</li>\n",
    "    <li>Finally a preprocessing layer to encode the key vector that will be used for denoising.</li>\n",
    "</ol>\n",
    "\n",
    "The auto encoder is trival to train. Give it all data points and let it encode then decode the images.\n",
    "\n",
    "The text preprocessor is less clear how this will work with our problem statement. Ideally we do not need one as our problem statement is finite thus may only require light preprocessing.\n",
    "\n",
    "The image denoiser is the complicated part. From what I can find the image denoiser will be a modified U-net with cross atention layers before each downsample and at each concatenation.\n"
   ]
  },
  {
   "attachments": {},
   "cell_type": "markdown",
   "metadata": {},
   "source": [
    "The image auto encoder is simple enough to create and train. just train on the image dataset to create an encoder and decoder. We will then use the encoded latent space for all denoising steps."
   ]
  },
  {
   "attachments": {},
   "cell_type": "markdown",
   "metadata": {},
   "source": [
    "generator output space into phenics to get the derivatives of the"
   ]
  },
  {
   "cell_type": "code",
   "execution_count": null,
   "metadata": {},
   "outputs": [],
   "source": [
    "modeling suragete:\n",
    "\n",
    "black bo"
   ]
  },
  {
   "attachments": {},
   "cell_type": "markdown",
   "metadata": {},
   "source": [
    "modeling suragete:\n",
    "\n",
    "black box function: you can querey it.(GA generation)\n",
    "- given a set of points and their values interpolate between to get a predition of what the function looks like.\n",
    "- take the point with the most uncertainty and plug it in to get a point with no uncertainty.\n",
    "- Do the same but with the most expected value.\n",
    "- or max probability of improvement.\n",
    "\n",
    "Make the final layer a probibility distribution then use cross entropy for the actual value\n"
   ]
  }
 ],
 "metadata": {
  "language_info": {
   "name": "python"
  },
  "orig_nbformat": 4
 },
 "nbformat": 4,
 "nbformat_minor": 2
}
