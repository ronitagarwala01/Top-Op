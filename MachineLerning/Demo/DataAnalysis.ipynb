{
 "cells": [
  {
   "cell_type": "code",
   "execution_count": null,
   "metadata": {},
   "outputs": [],
   "source": [
    "\"\"\"\n",
    "Library dedicated to analyizeing the pitfalls and shortcommings of the model over a given data set.\n",
    "\n",
    "End goal will be a pandas dataframe holding the the format vector for a datapoint, as well as the stats of the final result and predicted result(stress and compliance and mass)\n",
    "\"\"\"\n"
   ]
  },
  {
   "cell_type": "code",
   "execution_count": null,
   "metadata": {},
   "outputs": [],
   "source": [
    "\n",
    "import numpy as np\n",
    "import os\n",
    "import tensorflow as tf\n",
    "import pandas as pd\n",
    "from Demo_test import *\n",
    "\n"
   ]
  },
  {
   "cell_type": "code",
   "execution_count": null,
   "metadata": {},
   "outputs": [],
   "source": [
    "\n",
    "def getPartStats(formatVector,parts_array):\n",
    "    mass = []\n",
    "    comp = []\n",
    "    stress = []\n",
    "\n",
    "    for i in range(len(parts_array)):\n",
    "\n",
    "        #stress,compliance = testFenicsPart(parts_array[i],formatVector)\n",
    "        mass.append(np.sum(parts_array[i],axis=parts_array[i].shape))\n",
    "        comp.append(-1)\n",
    "        stress.append(-1)\n",
    "    \n",
    "    return mass,comp,stress\n",
    "        \n"
   ]
  },
  {
   "cell_type": "code",
   "execution_count": null,
   "metadata": {},
   "outputs": [],
   "source": [
    "\n",
    "def getBestImage(predictedImages,shiftIndexes,formatVector):\n",
    "\n",
    "    actualImages = []\n",
    "    subImages = predictedImages[-1].shape[0]\n",
    "    for i in range(subImages):\n",
    "        shiftX = shiftIndexes[i][0]\n",
    "        shiftY = shiftIndexes[i][1]\n",
    "\n",
    "        #print(\"{}:({},{})\".format(i,shiftX,shiftY))\n",
    "        part = predictedImages[-1][i,:,:,:]\n",
    "        part = np.reshape(part,(101,51))\n",
    "        part = shiftImage(part,-shiftX,-shiftY)\n",
    "        actualImages.append(part)\n",
    "\n",
    "    C_max, S_max = formatVector[6], formatVector[7]\n",
    "    mass_array,compliance_array,stress_array = getPartStats(formatVector,actualImages)\n",
    "\n",
    "    #the best part is the part with no stress of compliance violation with the least mass\n",
    "    # if all parts break the constraints, then return the part with the best score\n",
    "    scores = []\n",
    "    possibleParts = []\n",
    "    for i in range(len(actualImages)):\n",
    "        if(compliance_array[i] <= C_max and stress_array[i] <=S_max):\n",
    "            possibleParts.append(i)\n",
    "        score = mass_array[i] + np.exp(compliance_array[i]/C_max) + np.exp(stress_array[i]/S_max) - np.exp(2)\n",
    "        scores.append(score)\n",
    "    \n",
    "    if(len(possibleParts) >= 1):\n",
    "        minMass = np.inf\n",
    "        index = 0\n",
    "        for i in possibleParts:\n",
    "            if(mass_array[i] < minMass):\n",
    "                index = i\n",
    "                minMass = mass_array[i]\n",
    "        \n",
    "        return mass_array[index],compliance_array[index],stress_array[index]\n",
    "    \n",
    "    else:\n",
    "        minScore = np.argsort(scores)\n",
    "        index = minScore[0]\n",
    "\n",
    "        return mass_array[index],compliance_array[index],stress_array[index]\n"
   ]
  },
  {
   "cell_type": "code",
   "execution_count": null,
   "metadata": {},
   "outputs": [],
   "source": [
    "\n",
    "\n",
    "\n",
    "def buildDataframe(path):\n",
    "    \"\"\"\n",
    "    Given a path to data, construct a pandas dataframe with the load condtions and part stats\n",
    "    Then use the ml model and take some more stats and post them to the data frame.\n",
    "\n",
    "    We can then use the data frame to see what values give good parts.\n",
    "    \"\"\"\n",
    "\n",
    "    columns = [\"nelx\",\"nely\",\"did converge\",\"Youngs modulus\",\n",
    "               \"circle 1 x\",\"circle 1 y\",\"circle 1 radius\",\"force 1 x\",\"force 1 y\",\n",
    "               \"circle 2 x\",\"circle 2 y\",\"circle 2 radius\",\"force 1 x\",\"force 2 y\",\n",
    "               \"circle 3 x\",\"circle 3 y\",\"circle 3 radius\",\"force 3 x\",\"force 3 y\",\n",
    "               \"True Mass\",\"True Compliance\",\"True Stress\",\n",
    "               \"Predicted Mass\",\"Predicted Stress\",\"Predicted Compliance\"]\n",
    "    \n",
    "    df = pd.DataFrame(columns=columns)\n",
    "    model = getModel(100,50)\n",
    "\n",
    "    pointsToGrab = os.listdir(path)[:5]\n",
    "    for fileName in pointsToGrab:\n",
    "        dataPath = os.path.join(path,fileName)\n",
    "        formatVector,part,converged = loadFenicPart(dataPath)\n",
    "\n",
    "        circles = formatVector[0]\n",
    "        radii = formatVector[1]\n",
    "        forces = formatVector[2]\n",
    "        nelx, nely = formatVector[3], formatVector[4]\n",
    "        Y, C_max, S_max = formatVector[5], formatVector[6], formatVector[7]\n",
    "\n",
    "        PredictedImages,shiftIndexes = iteratePartWithShift(model,formatVector.copy(),shiftAmnt=3)\n",
    "\n",
    "        predMass,predCompliance,predStress = getBestImage(PredictedImages,shiftIndexes,formatVector)\n",
    "\n",
    "        mass = np.sum(part,axis=part.shape)\n",
    "\n",
    "        newFrame = {\"nelx\": nelx,\"nely\": nely,\"did converge\":converged,\"Youngs modulus\":Y,\n",
    "               \"circle 1 x\":circles[0][0],\"circle 1 y\":circles[1][0],\"circle 1 radius\":radii[0],\"force 1 x\":forces[0][0],\"force 1 y\":forces[1][0],\n",
    "               \"circle 2 x\":circles[0][1],\"circle 2 y\":circles[1][1],\"circle 2 radius\":radii[1],\"force 1 x\":forces[0][1],\"force 2 y\":forces[1][1],\n",
    "               \"circle 3 x\":circles[0][2],\"circle 3 y\":circles[1][2],\"circle 3 radius\":radii[2],\"force 3 x\":forces[0][2],\"force 3 y\":forces[1][2],\n",
    "               \"True Mass\":mass,\"True Compliance\":C_max,\"True Stress\":S_max,\n",
    "               \"Predicted Mass\":predMass,\"Predicted Stress\":predCompliance,\"Predicted Compliance\":predStress}\n",
    "        df.append(newFrame)\n",
    "    \n",
    "    return df\n",
    "\n"
   ]
  },
  {
   "cell_type": "code",
   "execution_count": null,
   "metadata": {},
   "outputs": [],
   "source": [
    "\n",
    "path = r\"E:\\TopoptGAfileSaves\\Mass minimization\\100_50_Validation\"\n"
   ]
  },
  {
   "cell_type": "code",
   "execution_count": null,
   "metadata": {},
   "outputs": [],
   "source": [
    "\"\"\"\n",
    "Given a path to data, construct a pandas dataframe with the load condtions and part stats\n",
    "Then use the ml model and take some more stats and post them to the data frame.\n",
    "\n",
    "We can then use the data frame to see what values give good parts.\n",
    "\"\"\"\n",
    "\n",
    "columns = [\"nelx\",\"nely\",\"did converge\",\"Youngs modulus\",\n",
    "            \"circle 1 x\",\"circle 1 y\",\"circle 1 radius\",\"force 1 x\",\"force 1 y\",\n",
    "            \"circle 2 x\",\"circle 2 y\",\"circle 2 radius\",\"force 1 x\",\"force 2 y\",\n",
    "            \"circle 3 x\",\"circle 3 y\",\"circle 3 radius\",\"force 3 x\",\"force 3 y\",\n",
    "            \"True Mass\",\"True Compliance\",\"True Stress\",\n",
    "            \"Predicted Mass\",\"Predicted Stress\",\"Predicted Compliance\"]\n",
    "\n",
    "\n"
   ]
  },
  {
   "cell_type": "code",
   "execution_count": null,
   "metadata": {},
   "outputs": [],
   "source": [
    "\n",
    "#model = getModel(100,50)\n",
    "frameData = []\n",
    "pointsToGrab = os.listdir(path)[:25]\n",
    "for i,fileName in enumerate(pointsToGrab):\n",
    "    print(\"{:.2f}%\\t\".format(i/len(pointsToGrab)),end='\\r')\n",
    "    dataPath = os.path.join(path,fileName)\n",
    "    formatVector,part,converged = loadFenicPart(dataPath)\n",
    "\n",
    "    circles = formatVector[0]\n",
    "    radii = formatVector[1]\n",
    "    forces = formatVector[2]\n",
    "    nelx, nely = formatVector[3], formatVector[4]\n",
    "    Y, C_max, S_max = formatVector[5], formatVector[6], formatVector[7]\n",
    "\n",
    "    #PredictedImages,shiftIndexes = iteratePartWithShift(model,formatVector.copy(),shiftAmnt=3)\n",
    "\n",
    "    predMass,predCompliance,predStress = 5151,-1,-1#getBestImage(PredictedImages,shiftIndexes,formatVector)\n",
    "\n",
    "    mass = np.sum(part)\n",
    "\n",
    "    \"\"\"newFrame = {\"nelx\": nelx,\"nely\": nely,\"did converge\":converged,\"Youngs modulus\":Y,\n",
    "            \"circle 1 x\":circles[0][0],\"circle 1 y\":circles[1][0],\"circle 1 radius\":radii[0],\"force 1 x\":forces[0][0],\"force 1 y\":forces[1][0],\n",
    "            \"circle 2 x\":circles[0][1],\"circle 2 y\":circles[1][1],\"circle 2 radius\":radii[1],\"force 1 x\":forces[0][1],\"force 2 y\":forces[1][1],\n",
    "            \"circle 3 x\":circles[0][2],\"circle 3 y\":circles[1][2],\"circle 3 radius\":radii[2],\"force 3 x\":forces[0][2],\"force 3 y\":forces[1][2],\n",
    "            \"True Mass\":mass,\"True Compliance\":C_max,\"True Stress\":S_max,\n",
    "            \"Predicted Mass\":predMass,\"Predicted Stress\":predCompliance,\"Predicted Compliance\":predStress}\"\"\"\n",
    "    \n",
    "    newFrame = [nelx, nely,converged,Y,\n",
    "                circles[0][0],circles[1][0],radii[0],forces[0][0],forces[1][0],\n",
    "                circles[0][1],circles[1][1],radii[1],forces[0][1],forces[1][1],\n",
    "                circles[0][2],circles[1][2],radii[2],forces[0][2],forces[1][2],\n",
    "                mass,C_max,S_max,\n",
    "                predMass,predCompliance,predStress]\n",
    "    frameData.append(newFrame)\n",
    "print(\"100%     \")\n"
   ]
  },
  {
   "cell_type": "code",
   "execution_count": null,
   "metadata": {},
   "outputs": [],
   "source": [
    "print(frameData)\n",
    "df = pd.DataFrame(frameData,columns=columns)\n"
   ]
  },
  {
   "cell_type": "code",
   "execution_count": null,
   "metadata": {},
   "outputs": [],
   "source": [
    "df = pd.read_csv(\"data3.csv\")"
   ]
  },
  {
   "cell_type": "code",
   "execution_count": null,
   "metadata": {},
   "outputs": [],
   "source": [
    "\n",
    "df2 = pd.read_csv(\"data8.csv\")\n",
    "df = df.append(df2,ignore_index=True)"
   ]
  },
  {
   "cell_type": "code",
   "execution_count": null,
   "metadata": {},
   "outputs": [],
   "source": [
    "print(df)"
   ]
  },
  {
   "cell_type": "code",
   "execution_count": null,
   "metadata": {},
   "outputs": [],
   "source": [
    "df.to_csv('DataFull.csv')"
   ]
  },
  {
   "cell_type": "code",
   "execution_count": null,
   "metadata": {},
   "outputs": [],
   "source": [
    "\"\"\"\n",
    "Take the dataframe created and perform PCA on the format vector portion of the dataframe\n",
    "\"\"\"\n",
    "columns = [\"nelx\",\"nely\",\"did converge\",\"Youngs modulus\",\n",
    "            \"circle 1 x\",\"circle 1 y\",\"circle 1 radius\",\"force 1 x\",\"force 1 y\",\n",
    "            \"circle 2 x\",\"circle 2 y\",\"circle 2 radius\",\"force 1 x\",\"force 2 y\",\n",
    "            \"circle 3 x\",\"circle 3 y\",\"circle 3 radius\",\"force 3 x\",\"force 3 y\",\n",
    "            \"True Mass\",\"True Compliance\",\"True Stress\",\n",
    "            \"Predicted Mass\",\"Predicted Stress\",\"Predicted Compliance\"]\n",
    "\n",
    "columnsToPCA = columns[:20]\n",
    "\n",
    "matrix = df[columnsToPCA].to_numpy(dtype='float32')\n",
    "matrix = matrix.T\n",
    "\n"
   ]
  },
  {
   "cell_type": "code",
   "execution_count": null,
   "metadata": {},
   "outputs": [],
   "source": [
    "print(matrix.shape)"
   ]
  },
  {
   "cell_type": "code",
   "execution_count": null,
   "metadata": {},
   "outputs": [],
   "source": [
    "u,s,v_t = np.linalg.svd(matrix)\n",
    "\n",
    "error2D = np.sum(s[3:])\n",
    "error3D = np.sum(s[4:])\n",
    "\n",
    "print(\"PCA error for 2D representation: \",error2D)\n",
    "print(\"PCA error for 3D representation: \",error3D)\n",
    "\n",
    "\n"
   ]
  },
  {
   "cell_type": "code",
   "execution_count": null,
   "metadata": {},
   "outputs": [],
   "source": [
    "print(df)"
   ]
  },
  {
   "cell_type": "code",
   "execution_count": null,
   "metadata": {},
   "outputs": [],
   "source": [
    "\n",
    "pca2D = u[:,:3].T\n",
    "\n",
    "print(pca2D.shape)\n",
    "\n",
    "x = []\n",
    "y = []\n",
    "z = []\n",
    "status = []\n",
    "legend = []\n",
    "for i in range(len(df.index)):\n",
    "    #print(df.iloc[i])\n",
    "    vec = df.iloc[i][columnsToPCA].to_numpy(dtype='float32')\n",
    "    vec = np.reshape(vec,(len(vec),1))\n",
    "    #print(vec.shape)\n",
    "    twodimOutput = np.reshape(pca2D @ vec,3)\n",
    "\n",
    "    #print(twodimOutput)\n",
    "\n",
    "    x.append(twodimOutput[0])\n",
    "    y.append(twodimOutput[1])\n",
    "    z.append(twodimOutput[2])\n",
    "    compliance = df.iloc[i]['True Compliance']\n",
    "    stress = df.iloc[i]['True Stress']\n",
    "    predStress = df.iloc[i]['Predicted Compliance']#stress and compliance got swaped in saving. correcting them here\n",
    "    predCompliance = df.iloc[i]['Predicted Stress']\n",
    "\n",
    "    c_constraint = compliance >= predCompliance\n",
    "    s_constraint = stress >= predStress\n",
    "\n",
    "    #print(\"Stress: {} >= {} = {}\".format(stress,predStress,s_constraint))\n",
    "    #print(\"Comp.: {} >= {} = {}\\n\".format(compliance,predCompliance,c_constraint))\n",
    "\n",
    "    if(c_constraint and s_constraint):\n",
    "        legend.append('Comp. and Stres')\n",
    "        status.append(0)\n",
    "    elif(c_constraint):\n",
    "        legend.append('Comp.')\n",
    "        status.append(1)\n",
    "    elif(s_constraint):\n",
    "        legend.append('Stress')\n",
    "        status.append(2)\n",
    "    else:\n",
    "        legend.append('None')\n",
    "        status.append(3)\n",
    "\n",
    "\n",
    "\n"
   ]
  },
  {
   "cell_type": "code",
   "execution_count": null,
   "metadata": {},
   "outputs": [],
   "source": [
    "colorVals = np.array(['red','green','blue','black'])\n",
    "markerVals = np.array(['1','o','^','s'])"
   ]
  },
  {
   "cell_type": "code",
   "execution_count": null,
   "metadata": {},
   "outputs": [],
   "source": [
    "c = colorVals[np.array(status)]\n",
    "m = markerVals[status]\n",
    "print(m)"
   ]
  },
  {
   "cell_type": "code",
   "execution_count": null,
   "metadata": {},
   "outputs": [],
   "source": [
    "plt.scatter(x,y,c=colorVals[status])\n",
    "plt.legend(legend)\n",
    "plt.show()"
   ]
  },
  {
   "cell_type": "code",
   "execution_count": null,
   "metadata": {},
   "outputs": [],
   "source": [
    "fig = plt.figure()\n",
    "ax = fig.add_subplot(projection='3d')\n",
    "ax.scatter(x,y,z,c=colorVals[status])\n",
    "plt.show()"
   ]
  }
 ],
 "metadata": {
  "kernelspec": {
   "display_name": "Python 3",
   "language": "python",
   "name": "python3"
  },
  "language_info": {
   "codemirror_mode": {
    "name": "ipython",
    "version": 3
   },
   "file_extension": ".py",
   "mimetype": "text/x-python",
   "name": "python",
   "nbconvert_exporter": "python",
   "pygments_lexer": "ipython3",
   "version": "3.7.9"
  },
  "orig_nbformat": 4
 },
 "nbformat": 4,
 "nbformat_minor": 2
}
