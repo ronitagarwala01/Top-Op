{
 "cells": [
  {
   "cell_type": "code",
   "execution_count": null,
   "metadata": {},
   "outputs": [],
   "source": [
    "import matplotlib.pyplot as plt\n",
    "from matplotlib import colors\n",
    "import numpy as np"
   ]
  },
  {
   "cell_type": "code",
   "execution_count": null,
   "metadata": {},
   "outputs": [],
   "source": [
    "from DemoSuportLibrary import *"
   ]
  },
  {
   "cell_type": "code",
   "execution_count": null,
   "metadata": {},
   "outputs": [],
   "source": [
    "import os\n",
    "from time import time"
   ]
  },
  {
   "cell_type": "code",
   "execution_count": null,
   "metadata": {},
   "outputs": [],
   "source": [
    "import tensorflow as tf"
   ]
  },
  {
   "cell_type": "code",
   "execution_count": null,
   "metadata": {},
   "outputs": [],
   "source": [
    "FORCE_NORMILIZATION_FACTOR = 7000\n",
    "YOUNGS_MODULUS_NORMILIZATION_FACTOR = 238000000000\n",
    "COMPLIANCE_MAX_NORMILIZATION_FACTOR = 0.03\n",
    "STRESS_MAX_NORMILIZATION_FACTOR = 15000000\n"
   ]
  },
  {
   "attachments": {},
   "cell_type": "markdown",
   "metadata": {},
   "source": [
    "<h1>Creating a part</h1>\n",
    "<p>When creating a new part there are three design points you must consider: The placement of the circles, the direction of two forces, and what the constraints should be</p>\n",
    "<p>For placing the circles, our domain allows for circles to be placed anywhere in a continuous 2 by 1 mesh as long as the circles do not overlap with each other or the boundaries of the domain. If a circle violates theses constraint then it will be altered till it best fits these conditions.</p>\n",
    "<p>Since all three forces must sum to zero, users are only allowed to input two forces for the circles. The third force will automatically be generated to cancel out the other two. Forces are generated with polar coordinates so the user must select a magnitude and an angle. Valid force sizes are in the 10,000 kilo-newton range but you can go as high as 20,000 and may also go negative.</p>\n",
    "<p>The constraints for the problem inlcude the Young's modulus, the compliance max and the stress max.</p>\n",
    "<ul>\n",
    "    <li>Young's modulus: min:5.2e+10 mean:2.9e+11 max:5e+11</li>\n",
    "    <li>Compliance max: min:0.0006 mean:0.03, max:.5</li>\n",
    "    <li>Stress max: min:3e+6 mean:1.5e+7 max:4.7e+7</li>\n",
    "</ul>\n",
    "<p2>It is important to note that these are all unitless values, while they do corespond to real units and react proportionally to each other, they do not represent a true scale.<\\p2>"
   ]
  },
  {
   "cell_type": "code",
   "execution_count": null,
   "metadata": {},
   "outputs": [],
   "source": [
    "#current set up is the fidget spinner formation\n",
    "\n",
    "#circle 1\n",
    "c1_x = 0.85\n",
    "c1_y = 0.76\n",
    "c1_radius = .15\n",
    "\n",
    "#circle 2\n",
    "c2_x = 0.85\n",
    "c2_y = 0.24\n",
    "c2_radius = .15\n",
    "\n",
    "#circle 3\n",
    "c3_x = 1.3\n",
    "c3_y = 0.5\n",
    "c3_radius = .15\n",
    "\n",
    "#forces are set to the mean value pointed at an angle\n",
    "force1 = 1e4\n",
    "angle1 = (1/6)*np.pi\n",
    "\n",
    "force2 = 1e4\n",
    "angle2 = (5/6)*np.pi\n"
   ]
  },
  {
   "cell_type": "code",
   "execution_count": null,
   "metadata": {},
   "outputs": [],
   "source": [
    "#set up for beam\n",
    "\n",
    "#circle 1\n",
    "c1_x = 0.3\n",
    "c1_y = 0.7\n",
    "c1_radius = .15\n",
    "\n",
    "#circle 2\n",
    "c2_x = 1.5\n",
    "c2_y = 0.5\n",
    "c2_radius = .25\n",
    "\n",
    "#circle 3\n",
    "c3_x = .5\n",
    "c3_y = 0.2\n",
    "c3_radius = .10\n",
    "\n",
    "#forces are set to the mean value pointed at an angle\n",
    "force1 = 1e4\n",
    "angle1 = (6/6)*np.pi\n",
    "\n",
    "force2 = 1e4\n",
    "angle2 = (2/6)*np.pi"
   ]
  },
  {
   "cell_type": "code",
   "execution_count": null,
   "metadata": {},
   "outputs": [],
   "source": [
    "# standard resolution is 100 by 50\n",
    "\n",
    "circles_array = np.array([[c1_x,c2_x,c3_x],[c1_y,c2_y,c3_y]])\n",
    "radii_array = np.array([c1_radius,c2_radius,c3_radius])"
   ]
  },
  {
   "cell_type": "code",
   "execution_count": null,
   "metadata": {},
   "outputs": [],
   "source": [
    "#check the current shape of the circles\n",
    "\n",
    "x = np.linspace(0,2,100)\n",
    "y = np.linspace(0,1,50)\n",
    "X,Y = np.meshgrid(x,y)\n",
    "\n",
    "def dist(num):\n",
    "    return np.sqrt((X-circles_array[0][num])**2 + (Y-circles_array[1][num])**2) - radii_array[num]\n",
    "\n",
    "circleImage = np.minimum(dist(0),np.minimum(dist(1),dist(2)))\n",
    "circleImage = np.where(circleImage >= 0, 0,1)\n",
    "\n",
    "plt.imshow(circleImage,cmap='gray_r')"
   ]
  },
  {
   "cell_type": "code",
   "execution_count": null,
   "metadata": {},
   "outputs": [],
   "source": [
    "#code to create true force vectors\n",
    "def genForces(f1,a1,f2,a2):\n",
    "    fx_1 = f1*np.cos(a1)\n",
    "    fy_1 = f1*np.sin(a1)\n",
    "    fx_2 = f2*np.cos(a2)\n",
    "    fy_2 = f2*np.sin(a2)\n",
    "\n",
    "    fx_3 = -(fx_1+fx_2)\n",
    "    fy_3 = -(fy_1+fy_2)\n",
    "\n",
    "    print(\"forces are:\")\n",
    "    print(\"Force1: x={}, y={}\".format(int(fx_1),int(fy_1)))\n",
    "    print(\"Force2: x={}, y={}\".format(int(fx_2),int(fy_2)))\n",
    "    print(\"Force3: x={}, y={}\".format(int(fx_3),int(fy_3)))\n",
    "\n",
    "    return np.array([[fx_1,fx_2,fx_3],[fy_1,fy_2,fy_3]])"
   ]
  },
  {
   "cell_type": "code",
   "execution_count": null,
   "metadata": {},
   "outputs": [],
   "source": [
    "forces = genForces(force1,angle1,force2,angle2)"
   ]
  },
  {
   "cell_type": "code",
   "execution_count": null,
   "metadata": {},
   "outputs": [],
   "source": [
    "#slightly higher constraints than normal\n",
    "\n",
    "YoungsModulus = 2e11\n",
    "ComplianceMax = 0.03\n",
    "StressMax = 1e7\n",
    "\n",
    "#standard resolution\n",
    "nelx = 100\n",
    "nely = nelx//2#50\n",
    "\n",
    "formattedVector_full = [circles_array,radii_array,forces,nelx,nely,YoungsModulus,ComplianceMax,StressMax]\n",
    "formattedVector_half = [circles_array,radii_array,forces,nelx//2,nely//2,YoungsModulus,ComplianceMax,StressMax]"
   ]
  },
  {
   "cell_type": "code",
   "execution_count": null,
   "metadata": {},
   "outputs": [],
   "source": [
    "path = r'E:\\TopoptGAfileSaves\\Mass minimization\\AlienWareData\\True\\100_50_Validation'\n",
    "dirList = os.listdir(path)\n",
    "i = 165\n",
    "\n",
    "trueFormatVector,TruePart,converged = loadFenicPart(os.path.join(path,dirList[i]))\n"
   ]
  },
  {
   "cell_type": "code",
   "execution_count": null,
   "metadata": {},
   "outputs": [],
   "source": [
    "plotFormatVector(trueFormatVector,nelx)"
   ]
  },
  {
   "cell_type": "code",
   "execution_count": null,
   "metadata": {},
   "outputs": [],
   "source": [
    "def getModel():\n",
    "    modelNum = 9\n",
    "    model_half_Resolution = Model_m9(nelx//2+1,nely//2+1)\n",
    "    model_Full_Resolution = Model_m9(nelx+1,nely+1)\n",
    "    fileSaveName = \"Model_m{}\".format(modelNum)\n",
    "    \n",
    "    \n",
    "\n",
    "    modelPath = os.path.join(os.getcwd(),'ModelSave',fileSaveName)\n",
    "    \n",
    "    if(os.path.isdir(modelPath)):\n",
    "        try:\n",
    "            \n",
    "            model_half_Resolution.load_weights(os.path.join(modelPath,fileSaveName))\n",
    "            model_Full_Resolution.load_weights(os.path.join(modelPath,fileSaveName))\n",
    "        except:\n",
    "            print(\"Model weights could not be loaded.\")\n",
    "        else:\n",
    "            print(\"Model weights Loaded\")\n",
    "    else:\n",
    "        print(\"Model file does not exist.\")\n",
    "\n",
    "    return model_half_Resolution,model_Full_Resolution"
   ]
  },
  {
   "cell_type": "code",
   "execution_count": null,
   "metadata": {},
   "outputs": [],
   "source": [
    "def formatDataForModel(formatVector):\n",
    "    circles = formatVector[0]\n",
    "    radii = formatVector[1]\n",
    "    forces = formatVector[2]\n",
    "    nelx, nely = formatVector[3], formatVector[4]\n",
    "    Youngs, C_max, S_max = formatVector[5], formatVector[6], formatVector[7]\n",
    "\n",
    "    x = np.linspace(0,2,nelx+1)\n",
    "    y = np.linspace(0,1,nely+1)\n",
    "    X,Y = np.meshgrid(x,y)\n",
    "\n",
    "    def dist(num):\n",
    "        return np.sqrt((X-circles[0][num])**2 + (Y-circles[1][num])**2) - radii[num]\n",
    "\n",
    "    circleImage = np.minimum(dist(0),np.minimum(dist(1),dist(2)))\n",
    "    circleImage = np.where(circleImage >= 0, 0,1)\n",
    "\n",
    "    circleImage = np.reshape(circleImage.T,(nelx+1,nely+1,1))\n",
    "\n",
    "    res = min(nelx,nely)\n",
    "\n",
    "    forceImageX = np.zeros((nelx+1,nely+1,1))\n",
    "    forceImageY = np.zeros((nelx+1,nely+1,1))\n",
    "    for i in range(3):\n",
    "        fx = forces[0][i] / FORCE_NORMILIZATION_FACTOR\n",
    "        fy = forces[1][i] / FORCE_NORMILIZATION_FACTOR\n",
    "        x_coord = int(circles[0][i] * res)\n",
    "        y_coord = int(circles[1][i] * res)\n",
    "        forceImageX[x_coord,y_coord,0] = fx\n",
    "        forceImageY[x_coord,y_coord,0] = fy\n",
    "\n",
    "        \n",
    "    #print(\"Y.shape:\",Y.shape)\n",
    "\n",
    "    Y_image = (Youngs / YOUNGS_MODULUS_NORMILIZATION_FACTOR )*np.ones((nelx+1,nely+1,1))\n",
    "    c_max_image = (C_max / COMPLIANCE_MAX_NORMILIZATION_FACTOR )*np.ones((nelx+1,nely+1,1))\n",
    "    s_max_image = (S_max / STRESS_MAX_NORMILIZATION_FACTOR )*np.ones((nelx+1,nely+1,1))\n",
    "\n",
    "    print(\"circleImage.shape:\",circleImage.shape)\n",
    "    print(\"forceImageX.shape:\",forceImageX.shape)\n",
    "    print(\"forceImageY.shape:\",forceImageY.shape)\n",
    "    print(\"Y_image.shape:\",Y_image.shape)\n",
    "    print(\"c_max_image.shape:\",c_max_image.shape)\n",
    "    print(\"s_max_image.shape:\",s_max_image.shape)\n",
    "\n",
    "    loadCondtionsImage = np.concatenate([circleImage,forceImageX,forceImageY,Y_image,c_max_image,s_max_image],axis=2)\n",
    "    loadCondtionsImage = np.reshape(loadCondtionsImage,(1,nelx+1,nely+1,6))\n",
    "    startBlock = np.ones((1,nelx+1,nely+1,1))\n",
    "    return loadCondtionsImage,startBlock\n"
   ]
  },
  {
   "cell_type": "code",
   "execution_count": null,
   "metadata": {},
   "outputs": [],
   "source": [
    "#get the model set up\n",
    "model_start,model_full = getModel()"
   ]
  },
  {
   "cell_type": "code",
   "execution_count": null,
   "metadata": {},
   "outputs": [],
   "source": [
    "#predict some iterations\n",
    "formattedImage_full,startingBlock_full = formatDataForModel(formattedVector_full)\n",
    "print()\n",
    "formattedImage_half,StartingBlock = formatDataForModel(formattedVector_half)\n"
   ]
  },
  {
   "cell_type": "code",
   "execution_count": null,
   "metadata": {},
   "outputs": [],
   "source": [
    "formattedImage_True,StartingBlock_True = formatDataForModel(trueFormatVector)\n"
   ]
  },
  {
   "cell_type": "code",
   "execution_count": null,
   "metadata": {},
   "outputs": [],
   "source": [
    "#start half res part creation\n",
    "numImages = 5\n",
    "ImageToPredict = StartingBlock\n",
    "PredictedImages = [StartingBlock]\n",
    "start = time()\n",
    "for i in range(numImages):\n",
    "    #use the output of the last iteration as the input for the next iteraion\n",
    "    output = model_start.predict({'x':ImageToPredict,'loadConditions':formattedImage_half},verbose = 0)\n",
    "    ImageToPredict = output#[0]\n",
    "    PredictedImages.append(ImageToPredict)\n",
    "end = time()\n",
    "print(\"{} iterations took {:.2f} seconds or about {:.5f} seconds per iteration.\".format(numImages,end-start,(end-start)/numImages))"
   ]
  },
  {
   "cell_type": "code",
   "execution_count": null,
   "metadata": {},
   "outputs": [],
   "source": [
    "# Fininsh part at full res\n",
    "numImages = 50\n",
    "#newStartingImage = np.reshape(PredictedImages[-1],(51,26))\n",
    "#newStartingImage = doublePartSize(newStartingImage,formattedVector_half)\n",
    "\n",
    "ImageToPredict = StartingBlock_True\n",
    "PredictedImages = [StartingBlock_True]\n",
    "#print(newStartingImage.shape)\n",
    "#ImageToPredict = np.reshape(newStartingImage,(1,nelx+1,nely+1))\n",
    "start = time()\n",
    "for i in range(numImages):\n",
    "    #use the output of the last iteration as the input for the next iteraion\n",
    "    output = model_full.predict({'x':ImageToPredict,'loadConditions':formattedImage_True},verbose = 0)\n",
    "    ImageToPredict = output#[0]\n",
    "    PredictedImages.append(ImageToPredict)\n",
    "end = time()\n",
    "print(\"{} iterations took {:.2f} seconds or about {:.5f} seconds per iteration.\".format(numImages,end-start,(end-start)/numImages))"
   ]
  },
  {
   "cell_type": "code",
   "execution_count": null,
   "metadata": {},
   "outputs": [],
   "source": [
    "#show a subset of the predicted images\n",
    "imagesToShow = 5\n",
    "imagesToJump = numImages // imagesToShow\n",
    "\n",
    "#create plot\n",
    "fig,ax = plt.subplots(1,imagesToShow)\n",
    "for i in range(0,imagesToShow-1):\n",
    "    #for each image get the corisponding prediction\n",
    "    try:\n",
    "        ax[i].imshow(np.reshape(PredictedImages[i*imagesToJump],(nelx+1,nely+1)).T,cmap='gray_r',norm=colors.Normalize(vmin=0,vmax=1))\n",
    "    except ValueError:\n",
    "        ax[i].imshow(np.reshape(PredictedImages[i*imagesToJump],(nelx//2+1,nely//2+1)).T,cmap='gray_r',norm=colors.Normalize(vmin=0,vmax=1))\n",
    "\n",
    "    #clear the plot of exess detail\n",
    "    ax[i].get_xaxis().set_visible(False)\n",
    "    ax[i].get_yaxis().set_visible(False)\n",
    "    # set the correct plot title\n",
    "    ax[i].set_title(\"iter:{}\".format(i*imagesToJump))\n",
    "\n",
    "#always show the final iteration\n",
    "ax[-1].imshow(np.reshape(PredictedImages[-1],(nelx+1,nely+1)).T,cmap='gray_r',norm=colors.Normalize(vmin=0,vmax=1))\n",
    "ax[-1].get_xaxis().set_visible(False)\n",
    "ax[-1].get_yaxis().set_visible(False)\n",
    "ax[-1].set_title(\"iter:{}\".format(numImages))\n",
    "\n",
    "plt.show()\n"
   ]
  },
  {
   "cell_type": "code",
   "execution_count": null,
   "metadata": {},
   "outputs": [],
   "source": [
    "fig,ax = plt.subplots(2)\n",
    "ax[0].imshow(np.reshape(TruePart,(101,51),order='F').T,cmap='gray_r')\n",
    "ax[1].imshow(np.reshape(PredictedImages[-1],(101,51)).T,cmap='gray_r')"
   ]
  },
  {
   "cell_type": "code",
   "execution_count": null,
   "metadata": {},
   "outputs": [],
   "source": [
    "#save output as gif\n",
    "SaveAsGif(PredictedImages,nelx,nely,name=\"Spinner\")"
   ]
  },
  {
   "cell_type": "markdown",
   "metadata": {},
   "source": []
  }
 ],
 "metadata": {
  "kernelspec": {
   "display_name": "Python 3",
   "language": "python",
   "name": "python3"
  },
  "language_info": {
   "codemirror_mode": {
    "name": "ipython",
    "version": 3
   },
   "file_extension": ".py",
   "mimetype": "text/x-python",
   "name": "python",
   "nbconvert_exporter": "python",
   "pygments_lexer": "ipython3",
   "version": "3.7.9"
  },
  "orig_nbformat": 4
 },
 "nbformat": 4,
 "nbformat_minor": 2
}
